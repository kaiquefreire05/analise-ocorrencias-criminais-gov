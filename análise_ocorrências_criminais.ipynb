{
  "nbformat": 4,
  "nbformat_minor": 0,
  "metadata": {
    "colab": {
      "provenance": [],
      "mount_file_id": "1CPtc0qZ9tfX8b1iZuvfqdq5bNCCvPdF4",
      "authorship_tag": "ABX9TyNppB5Du16l1EHc6s+bwzaE",
      "include_colab_link": true
    },
    "kernelspec": {
      "name": "python3",
      "display_name": "Python 3"
    },
    "language_info": {
      "name": "python"
    }
  },
  "cells": [
    {
      "cell_type": "markdown",
      "metadata": {
        "id": "view-in-github",
        "colab_type": "text"
      },
      "source": [
        "<a href=\"https://colab.research.google.com/github/kaiquefreire05/analise-ocorrencias-criminais-gov/blob/main/an%C3%A1lise_ocorr%C3%AAncias_criminais.ipynb\" target=\"_parent\"><img src=\"https://colab.research.google.com/assets/colab-badge.svg\" alt=\"Open In Colab\"/></a>"
      ]
    },
    {
      "cell_type": "markdown",
      "source": [
        "# Analisando ocorrências criminais por UF (Unidade de federação)"
      ],
      "metadata": {
        "id": "CqYhRMQhNmUu"
      }
    },
    {
      "cell_type": "markdown",
      "source": [
        "A violência e a criminalidade são problemas complexos que afetam a sociedade brasileira há décadas. Esses problemas têm consequências graves para a vida das pessoas, incluindo perdas humanas, danos materiais e prejuízos econômicos.\n",
        "\n",
        "Para compreender melhor esses problemas e desenvolver políticas públicas mais eficazes para combatê-los, é importante realizar análises de dados.\n",
        "\n",
        "Neste projeto, vamos analisar um dataset de ocorrências criminais por unidade federativa no Brasil.\n",
        "\n",
        "A análise dos dados nos permitirá:\n",
        "\n",
        "* Identificar tendências e padrões de criminalidade no Brasil;\n",
        "\n",
        "* Comparar a situação de diferentes unidades federativas em relação à criminalidade;\n",
        "\n",
        "* Propor hipóteses sobre os fatores que podem contribuir para a criminalidade;\n",
        "\n",
        "* Avaliar a eficácia de políticas públicas de segurança pública."
      ],
      "metadata": {
        "id": "WrgFJnIaOC-k"
      }
    },
    {
      "cell_type": "markdown",
      "source": [
        "# Coleta dos dados"
      ],
      "metadata": {
        "id": "fap0G0NbQgcK"
      }
    },
    {
      "cell_type": "markdown",
      "source": [
        "O dataset foi disponibilizado pelo Ministério da Justiça e Segurança Pública e contém informações sobre o número de ocorrências, natureza do fato registrado, perfil da vítima, perfil do autor, meios empregados, dentre outras.\n",
        "\n",
        "Link dos dados: https://dados.gov.br/dados/conjuntos-dados/sistema-nacional-de-estatisticas-de-seguranca-publica"
      ],
      "metadata": {
        "id": "Fc69LMXjQiLp"
      }
    },
    {
      "cell_type": "markdown",
      "source": [
        "# Objetivos"
      ],
      "metadata": {
        "id": "1U8aw54rRIJS"
      }
    },
    {
      "cell_type": "markdown",
      "source": [
        "Os objetivos deste projeto são:\n",
        "\n",
        "* Identificar as principais tendências e padrões de criminalidade no Brasil;\n",
        "\n",
        "* Comparar a situação de diferentes unidades federativas em relação à criminalidade;\n",
        "\n",
        "* Identificar fatores que podem contribuir para a criminalidade."
      ],
      "metadata": {
        "id": "0BWTT9oPRJQL"
      }
    },
    {
      "cell_type": "markdown",
      "source": [
        "# Primeiros passos"
      ],
      "metadata": {
        "id": "UIR86i4_TGQ-"
      }
    },
    {
      "cell_type": "markdown",
      "source": [
        "## Importando bibliotecas que serão usadas"
      ],
      "metadata": {
        "id": "WMpYjdwJRfPi"
      }
    },
    {
      "cell_type": "code",
      "source": [
        "# Bibliotecas necessárias\n",
        "import pandas as pd\n",
        "import matplotlib.pyplot as plt"
      ],
      "metadata": {
        "id": "wydRBGmvRjpn"
      },
      "execution_count": null,
      "outputs": []
    },
    {
      "cell_type": "markdown",
      "source": [
        "## Fazendo a leitura da base de dados"
      ],
      "metadata": {
        "id": "L1uMLYTEboSe"
      }
    },
    {
      "cell_type": "code",
      "source": [
        "# Fazendo leitura da base de dados\n",
        "df = pd.read_excel('/content/drive/MyDrive/datasets/indicadoressegurancapublicauf.xlsx')"
      ],
      "metadata": {
        "id": "8-h6dvv8SjNo"
      },
      "execution_count": null,
      "outputs": []
    },
    {
      "cell_type": "markdown",
      "source": [
        "## Primeiras interações com a base de dados"
      ],
      "metadata": {
        "id": "DGXMIzqWTUYF"
      }
    },
    {
      "cell_type": "code",
      "source": [
        "# Verificando as 5 primeiras linhas\n",
        "df.head()"
      ],
      "metadata": {
        "colab": {
          "base_uri": "https://localhost:8080/",
          "height": 206
        },
        "id": "ZkaI30rCTeRL",
        "outputId": "157dd463-e6c5-48a0-b4bd-1d337a01b9ab"
      },
      "execution_count": null,
      "outputs": [
        {
          "output_type": "execute_result",
          "data": {
            "text/plain": [
              "     UF                       Tipo Crime   Ano      Mês  Ocorrências\n",
              "0  Acre                          Estupro  2022  janeiro           31\n",
              "1  Acre                 Furto de veículo  2022  janeiro           50\n",
              "2  Acre                 Homicídio doloso  2022  janeiro           10\n",
              "3  Acre  Lesão corporal seguida de morte  2022  janeiro            1\n",
              "4  Acre   Roubo a instituição financeira  2022  janeiro            0"
            ],
            "text/html": [
              "\n",
              "  <div id=\"df-c991c7ed-0378-4277-abd7-8ed72a5bbbee\" class=\"colab-df-container\">\n",
              "    <div>\n",
              "<style scoped>\n",
              "    .dataframe tbody tr th:only-of-type {\n",
              "        vertical-align: middle;\n",
              "    }\n",
              "\n",
              "    .dataframe tbody tr th {\n",
              "        vertical-align: top;\n",
              "    }\n",
              "\n",
              "    .dataframe thead th {\n",
              "        text-align: right;\n",
              "    }\n",
              "</style>\n",
              "<table border=\"1\" class=\"dataframe\">\n",
              "  <thead>\n",
              "    <tr style=\"text-align: right;\">\n",
              "      <th></th>\n",
              "      <th>UF</th>\n",
              "      <th>Tipo Crime</th>\n",
              "      <th>Ano</th>\n",
              "      <th>Mês</th>\n",
              "      <th>Ocorrências</th>\n",
              "    </tr>\n",
              "  </thead>\n",
              "  <tbody>\n",
              "    <tr>\n",
              "      <th>0</th>\n",
              "      <td>Acre</td>\n",
              "      <td>Estupro</td>\n",
              "      <td>2022</td>\n",
              "      <td>janeiro</td>\n",
              "      <td>31</td>\n",
              "    </tr>\n",
              "    <tr>\n",
              "      <th>1</th>\n",
              "      <td>Acre</td>\n",
              "      <td>Furto de veículo</td>\n",
              "      <td>2022</td>\n",
              "      <td>janeiro</td>\n",
              "      <td>50</td>\n",
              "    </tr>\n",
              "    <tr>\n",
              "      <th>2</th>\n",
              "      <td>Acre</td>\n",
              "      <td>Homicídio doloso</td>\n",
              "      <td>2022</td>\n",
              "      <td>janeiro</td>\n",
              "      <td>10</td>\n",
              "    </tr>\n",
              "    <tr>\n",
              "      <th>3</th>\n",
              "      <td>Acre</td>\n",
              "      <td>Lesão corporal seguida de morte</td>\n",
              "      <td>2022</td>\n",
              "      <td>janeiro</td>\n",
              "      <td>1</td>\n",
              "    </tr>\n",
              "    <tr>\n",
              "      <th>4</th>\n",
              "      <td>Acre</td>\n",
              "      <td>Roubo a instituição financeira</td>\n",
              "      <td>2022</td>\n",
              "      <td>janeiro</td>\n",
              "      <td>0</td>\n",
              "    </tr>\n",
              "  </tbody>\n",
              "</table>\n",
              "</div>\n",
              "    <div class=\"colab-df-buttons\">\n",
              "\n",
              "  <div class=\"colab-df-container\">\n",
              "    <button class=\"colab-df-convert\" onclick=\"convertToInteractive('df-c991c7ed-0378-4277-abd7-8ed72a5bbbee')\"\n",
              "            title=\"Convert this dataframe to an interactive table.\"\n",
              "            style=\"display:none;\">\n",
              "\n",
              "  <svg xmlns=\"http://www.w3.org/2000/svg\" height=\"24px\" viewBox=\"0 -960 960 960\">\n",
              "    <path d=\"M120-120v-720h720v720H120Zm60-500h600v-160H180v160Zm220 220h160v-160H400v160Zm0 220h160v-160H400v160ZM180-400h160v-160H180v160Zm440 0h160v-160H620v160ZM180-180h160v-160H180v160Zm440 0h160v-160H620v160Z\"/>\n",
              "  </svg>\n",
              "    </button>\n",
              "\n",
              "  <style>\n",
              "    .colab-df-container {\n",
              "      display:flex;\n",
              "      gap: 12px;\n",
              "    }\n",
              "\n",
              "    .colab-df-convert {\n",
              "      background-color: #E8F0FE;\n",
              "      border: none;\n",
              "      border-radius: 50%;\n",
              "      cursor: pointer;\n",
              "      display: none;\n",
              "      fill: #1967D2;\n",
              "      height: 32px;\n",
              "      padding: 0 0 0 0;\n",
              "      width: 32px;\n",
              "    }\n",
              "\n",
              "    .colab-df-convert:hover {\n",
              "      background-color: #E2EBFA;\n",
              "      box-shadow: 0px 1px 2px rgba(60, 64, 67, 0.3), 0px 1px 3px 1px rgba(60, 64, 67, 0.15);\n",
              "      fill: #174EA6;\n",
              "    }\n",
              "\n",
              "    .colab-df-buttons div {\n",
              "      margin-bottom: 4px;\n",
              "    }\n",
              "\n",
              "    [theme=dark] .colab-df-convert {\n",
              "      background-color: #3B4455;\n",
              "      fill: #D2E3FC;\n",
              "    }\n",
              "\n",
              "    [theme=dark] .colab-df-convert:hover {\n",
              "      background-color: #434B5C;\n",
              "      box-shadow: 0px 1px 3px 1px rgba(0, 0, 0, 0.15);\n",
              "      filter: drop-shadow(0px 1px 2px rgba(0, 0, 0, 0.3));\n",
              "      fill: #FFFFFF;\n",
              "    }\n",
              "  </style>\n",
              "\n",
              "    <script>\n",
              "      const buttonEl =\n",
              "        document.querySelector('#df-c991c7ed-0378-4277-abd7-8ed72a5bbbee button.colab-df-convert');\n",
              "      buttonEl.style.display =\n",
              "        google.colab.kernel.accessAllowed ? 'block' : 'none';\n",
              "\n",
              "      async function convertToInteractive(key) {\n",
              "        const element = document.querySelector('#df-c991c7ed-0378-4277-abd7-8ed72a5bbbee');\n",
              "        const dataTable =\n",
              "          await google.colab.kernel.invokeFunction('convertToInteractive',\n",
              "                                                    [key], {});\n",
              "        if (!dataTable) return;\n",
              "\n",
              "        const docLinkHtml = 'Like what you see? Visit the ' +\n",
              "          '<a target=\"_blank\" href=https://colab.research.google.com/notebooks/data_table.ipynb>data table notebook</a>'\n",
              "          + ' to learn more about interactive tables.';\n",
              "        element.innerHTML = '';\n",
              "        dataTable['output_type'] = 'display_data';\n",
              "        await google.colab.output.renderOutput(dataTable, element);\n",
              "        const docLink = document.createElement('div');\n",
              "        docLink.innerHTML = docLinkHtml;\n",
              "        element.appendChild(docLink);\n",
              "      }\n",
              "    </script>\n",
              "  </div>\n",
              "\n",
              "\n",
              "<div id=\"df-d8394ba8-4454-45fa-8daf-85023e921b95\">\n",
              "  <button class=\"colab-df-quickchart\" onclick=\"quickchart('df-d8394ba8-4454-45fa-8daf-85023e921b95')\"\n",
              "            title=\"Suggest charts\"\n",
              "            style=\"display:none;\">\n",
              "\n",
              "<svg xmlns=\"http://www.w3.org/2000/svg\" height=\"24px\"viewBox=\"0 0 24 24\"\n",
              "     width=\"24px\">\n",
              "    <g>\n",
              "        <path d=\"M19 3H5c-1.1 0-2 .9-2 2v14c0 1.1.9 2 2 2h14c1.1 0 2-.9 2-2V5c0-1.1-.9-2-2-2zM9 17H7v-7h2v7zm4 0h-2V7h2v10zm4 0h-2v-4h2v4z\"/>\n",
              "    </g>\n",
              "</svg>\n",
              "  </button>\n",
              "\n",
              "<style>\n",
              "  .colab-df-quickchart {\n",
              "      --bg-color: #E8F0FE;\n",
              "      --fill-color: #1967D2;\n",
              "      --hover-bg-color: #E2EBFA;\n",
              "      --hover-fill-color: #174EA6;\n",
              "      --disabled-fill-color: #AAA;\n",
              "      --disabled-bg-color: #DDD;\n",
              "  }\n",
              "\n",
              "  [theme=dark] .colab-df-quickchart {\n",
              "      --bg-color: #3B4455;\n",
              "      --fill-color: #D2E3FC;\n",
              "      --hover-bg-color: #434B5C;\n",
              "      --hover-fill-color: #FFFFFF;\n",
              "      --disabled-bg-color: #3B4455;\n",
              "      --disabled-fill-color: #666;\n",
              "  }\n",
              "\n",
              "  .colab-df-quickchart {\n",
              "    background-color: var(--bg-color);\n",
              "    border: none;\n",
              "    border-radius: 50%;\n",
              "    cursor: pointer;\n",
              "    display: none;\n",
              "    fill: var(--fill-color);\n",
              "    height: 32px;\n",
              "    padding: 0;\n",
              "    width: 32px;\n",
              "  }\n",
              "\n",
              "  .colab-df-quickchart:hover {\n",
              "    background-color: var(--hover-bg-color);\n",
              "    box-shadow: 0 1px 2px rgba(60, 64, 67, 0.3), 0 1px 3px 1px rgba(60, 64, 67, 0.15);\n",
              "    fill: var(--button-hover-fill-color);\n",
              "  }\n",
              "\n",
              "  .colab-df-quickchart-complete:disabled,\n",
              "  .colab-df-quickchart-complete:disabled:hover {\n",
              "    background-color: var(--disabled-bg-color);\n",
              "    fill: var(--disabled-fill-color);\n",
              "    box-shadow: none;\n",
              "  }\n",
              "\n",
              "  .colab-df-spinner {\n",
              "    border: 2px solid var(--fill-color);\n",
              "    border-color: transparent;\n",
              "    border-bottom-color: var(--fill-color);\n",
              "    animation:\n",
              "      spin 1s steps(1) infinite;\n",
              "  }\n",
              "\n",
              "  @keyframes spin {\n",
              "    0% {\n",
              "      border-color: transparent;\n",
              "      border-bottom-color: var(--fill-color);\n",
              "      border-left-color: var(--fill-color);\n",
              "    }\n",
              "    20% {\n",
              "      border-color: transparent;\n",
              "      border-left-color: var(--fill-color);\n",
              "      border-top-color: var(--fill-color);\n",
              "    }\n",
              "    30% {\n",
              "      border-color: transparent;\n",
              "      border-left-color: var(--fill-color);\n",
              "      border-top-color: var(--fill-color);\n",
              "      border-right-color: var(--fill-color);\n",
              "    }\n",
              "    40% {\n",
              "      border-color: transparent;\n",
              "      border-right-color: var(--fill-color);\n",
              "      border-top-color: var(--fill-color);\n",
              "    }\n",
              "    60% {\n",
              "      border-color: transparent;\n",
              "      border-right-color: var(--fill-color);\n",
              "    }\n",
              "    80% {\n",
              "      border-color: transparent;\n",
              "      border-right-color: var(--fill-color);\n",
              "      border-bottom-color: var(--fill-color);\n",
              "    }\n",
              "    90% {\n",
              "      border-color: transparent;\n",
              "      border-bottom-color: var(--fill-color);\n",
              "    }\n",
              "  }\n",
              "</style>\n",
              "\n",
              "  <script>\n",
              "    async function quickchart(key) {\n",
              "      const quickchartButtonEl =\n",
              "        document.querySelector('#' + key + ' button');\n",
              "      quickchartButtonEl.disabled = true;  // To prevent multiple clicks.\n",
              "      quickchartButtonEl.classList.add('colab-df-spinner');\n",
              "      try {\n",
              "        const charts = await google.colab.kernel.invokeFunction(\n",
              "            'suggestCharts', [key], {});\n",
              "      } catch (error) {\n",
              "        console.error('Error during call to suggestCharts:', error);\n",
              "      }\n",
              "      quickchartButtonEl.classList.remove('colab-df-spinner');\n",
              "      quickchartButtonEl.classList.add('colab-df-quickchart-complete');\n",
              "    }\n",
              "    (() => {\n",
              "      let quickchartButtonEl =\n",
              "        document.querySelector('#df-d8394ba8-4454-45fa-8daf-85023e921b95 button');\n",
              "      quickchartButtonEl.style.display =\n",
              "        google.colab.kernel.accessAllowed ? 'block' : 'none';\n",
              "    })();\n",
              "  </script>\n",
              "</div>\n",
              "\n",
              "    </div>\n",
              "  </div>\n"
            ]
          },
          "metadata": {},
          "execution_count": 262
        }
      ]
    },
    {
      "cell_type": "code",
      "source": [
        "# Verificando as 5 últimas linhas\n",
        "df.tail()"
      ],
      "metadata": {
        "colab": {
          "base_uri": "https://localhost:8080/",
          "height": 206
        },
        "id": "AE_mR2yITvKn",
        "outputId": "3437d9ea-d102-4559-be5c-50fe2636641b"
      },
      "execution_count": null,
      "outputs": [
        {
          "output_type": "execute_result",
          "data": {
            "text/plain": [
              "              UF                           Tipo Crime   Ano       Mês  \\\n",
              "23015  Tocantins       Roubo a instituição financeira  2015  dezembro   \n",
              "23016  Tocantins                       Roubo de carga  2015  dezembro   \n",
              "23017  Tocantins                     Roubo de veículo  2015  dezembro   \n",
              "23018  Tocantins  Roubo seguido de morte (latrocínio)  2015  dezembro   \n",
              "23019  Tocantins               Tentativa de homicídio  2015  dezembro   \n",
              "\n",
              "       Ocorrências  \n",
              "23015            6  \n",
              "23016            1  \n",
              "23017           55  \n",
              "23018            2  \n",
              "23019           42  "
            ],
            "text/html": [
              "\n",
              "  <div id=\"df-2f30804d-6df7-4cc2-aed9-2dedbb78d34b\" class=\"colab-df-container\">\n",
              "    <div>\n",
              "<style scoped>\n",
              "    .dataframe tbody tr th:only-of-type {\n",
              "        vertical-align: middle;\n",
              "    }\n",
              "\n",
              "    .dataframe tbody tr th {\n",
              "        vertical-align: top;\n",
              "    }\n",
              "\n",
              "    .dataframe thead th {\n",
              "        text-align: right;\n",
              "    }\n",
              "</style>\n",
              "<table border=\"1\" class=\"dataframe\">\n",
              "  <thead>\n",
              "    <tr style=\"text-align: right;\">\n",
              "      <th></th>\n",
              "      <th>UF</th>\n",
              "      <th>Tipo Crime</th>\n",
              "      <th>Ano</th>\n",
              "      <th>Mês</th>\n",
              "      <th>Ocorrências</th>\n",
              "    </tr>\n",
              "  </thead>\n",
              "  <tbody>\n",
              "    <tr>\n",
              "      <th>23015</th>\n",
              "      <td>Tocantins</td>\n",
              "      <td>Roubo a instituição financeira</td>\n",
              "      <td>2015</td>\n",
              "      <td>dezembro</td>\n",
              "      <td>6</td>\n",
              "    </tr>\n",
              "    <tr>\n",
              "      <th>23016</th>\n",
              "      <td>Tocantins</td>\n",
              "      <td>Roubo de carga</td>\n",
              "      <td>2015</td>\n",
              "      <td>dezembro</td>\n",
              "      <td>1</td>\n",
              "    </tr>\n",
              "    <tr>\n",
              "      <th>23017</th>\n",
              "      <td>Tocantins</td>\n",
              "      <td>Roubo de veículo</td>\n",
              "      <td>2015</td>\n",
              "      <td>dezembro</td>\n",
              "      <td>55</td>\n",
              "    </tr>\n",
              "    <tr>\n",
              "      <th>23018</th>\n",
              "      <td>Tocantins</td>\n",
              "      <td>Roubo seguido de morte (latrocínio)</td>\n",
              "      <td>2015</td>\n",
              "      <td>dezembro</td>\n",
              "      <td>2</td>\n",
              "    </tr>\n",
              "    <tr>\n",
              "      <th>23019</th>\n",
              "      <td>Tocantins</td>\n",
              "      <td>Tentativa de homicídio</td>\n",
              "      <td>2015</td>\n",
              "      <td>dezembro</td>\n",
              "      <td>42</td>\n",
              "    </tr>\n",
              "  </tbody>\n",
              "</table>\n",
              "</div>\n",
              "    <div class=\"colab-df-buttons\">\n",
              "\n",
              "  <div class=\"colab-df-container\">\n",
              "    <button class=\"colab-df-convert\" onclick=\"convertToInteractive('df-2f30804d-6df7-4cc2-aed9-2dedbb78d34b')\"\n",
              "            title=\"Convert this dataframe to an interactive table.\"\n",
              "            style=\"display:none;\">\n",
              "\n",
              "  <svg xmlns=\"http://www.w3.org/2000/svg\" height=\"24px\" viewBox=\"0 -960 960 960\">\n",
              "    <path d=\"M120-120v-720h720v720H120Zm60-500h600v-160H180v160Zm220 220h160v-160H400v160Zm0 220h160v-160H400v160ZM180-400h160v-160H180v160Zm440 0h160v-160H620v160ZM180-180h160v-160H180v160Zm440 0h160v-160H620v160Z\"/>\n",
              "  </svg>\n",
              "    </button>\n",
              "\n",
              "  <style>\n",
              "    .colab-df-container {\n",
              "      display:flex;\n",
              "      gap: 12px;\n",
              "    }\n",
              "\n",
              "    .colab-df-convert {\n",
              "      background-color: #E8F0FE;\n",
              "      border: none;\n",
              "      border-radius: 50%;\n",
              "      cursor: pointer;\n",
              "      display: none;\n",
              "      fill: #1967D2;\n",
              "      height: 32px;\n",
              "      padding: 0 0 0 0;\n",
              "      width: 32px;\n",
              "    }\n",
              "\n",
              "    .colab-df-convert:hover {\n",
              "      background-color: #E2EBFA;\n",
              "      box-shadow: 0px 1px 2px rgba(60, 64, 67, 0.3), 0px 1px 3px 1px rgba(60, 64, 67, 0.15);\n",
              "      fill: #174EA6;\n",
              "    }\n",
              "\n",
              "    .colab-df-buttons div {\n",
              "      margin-bottom: 4px;\n",
              "    }\n",
              "\n",
              "    [theme=dark] .colab-df-convert {\n",
              "      background-color: #3B4455;\n",
              "      fill: #D2E3FC;\n",
              "    }\n",
              "\n",
              "    [theme=dark] .colab-df-convert:hover {\n",
              "      background-color: #434B5C;\n",
              "      box-shadow: 0px 1px 3px 1px rgba(0, 0, 0, 0.15);\n",
              "      filter: drop-shadow(0px 1px 2px rgba(0, 0, 0, 0.3));\n",
              "      fill: #FFFFFF;\n",
              "    }\n",
              "  </style>\n",
              "\n",
              "    <script>\n",
              "      const buttonEl =\n",
              "        document.querySelector('#df-2f30804d-6df7-4cc2-aed9-2dedbb78d34b button.colab-df-convert');\n",
              "      buttonEl.style.display =\n",
              "        google.colab.kernel.accessAllowed ? 'block' : 'none';\n",
              "\n",
              "      async function convertToInteractive(key) {\n",
              "        const element = document.querySelector('#df-2f30804d-6df7-4cc2-aed9-2dedbb78d34b');\n",
              "        const dataTable =\n",
              "          await google.colab.kernel.invokeFunction('convertToInteractive',\n",
              "                                                    [key], {});\n",
              "        if (!dataTable) return;\n",
              "\n",
              "        const docLinkHtml = 'Like what you see? Visit the ' +\n",
              "          '<a target=\"_blank\" href=https://colab.research.google.com/notebooks/data_table.ipynb>data table notebook</a>'\n",
              "          + ' to learn more about interactive tables.';\n",
              "        element.innerHTML = '';\n",
              "        dataTable['output_type'] = 'display_data';\n",
              "        await google.colab.output.renderOutput(dataTable, element);\n",
              "        const docLink = document.createElement('div');\n",
              "        docLink.innerHTML = docLinkHtml;\n",
              "        element.appendChild(docLink);\n",
              "      }\n",
              "    </script>\n",
              "  </div>\n",
              "\n",
              "\n",
              "<div id=\"df-5fb9b6ac-c229-4b45-8029-0c89f2295c6a\">\n",
              "  <button class=\"colab-df-quickchart\" onclick=\"quickchart('df-5fb9b6ac-c229-4b45-8029-0c89f2295c6a')\"\n",
              "            title=\"Suggest charts\"\n",
              "            style=\"display:none;\">\n",
              "\n",
              "<svg xmlns=\"http://www.w3.org/2000/svg\" height=\"24px\"viewBox=\"0 0 24 24\"\n",
              "     width=\"24px\">\n",
              "    <g>\n",
              "        <path d=\"M19 3H5c-1.1 0-2 .9-2 2v14c0 1.1.9 2 2 2h14c1.1 0 2-.9 2-2V5c0-1.1-.9-2-2-2zM9 17H7v-7h2v7zm4 0h-2V7h2v10zm4 0h-2v-4h2v4z\"/>\n",
              "    </g>\n",
              "</svg>\n",
              "  </button>\n",
              "\n",
              "<style>\n",
              "  .colab-df-quickchart {\n",
              "      --bg-color: #E8F0FE;\n",
              "      --fill-color: #1967D2;\n",
              "      --hover-bg-color: #E2EBFA;\n",
              "      --hover-fill-color: #174EA6;\n",
              "      --disabled-fill-color: #AAA;\n",
              "      --disabled-bg-color: #DDD;\n",
              "  }\n",
              "\n",
              "  [theme=dark] .colab-df-quickchart {\n",
              "      --bg-color: #3B4455;\n",
              "      --fill-color: #D2E3FC;\n",
              "      --hover-bg-color: #434B5C;\n",
              "      --hover-fill-color: #FFFFFF;\n",
              "      --disabled-bg-color: #3B4455;\n",
              "      --disabled-fill-color: #666;\n",
              "  }\n",
              "\n",
              "  .colab-df-quickchart {\n",
              "    background-color: var(--bg-color);\n",
              "    border: none;\n",
              "    border-radius: 50%;\n",
              "    cursor: pointer;\n",
              "    display: none;\n",
              "    fill: var(--fill-color);\n",
              "    height: 32px;\n",
              "    padding: 0;\n",
              "    width: 32px;\n",
              "  }\n",
              "\n",
              "  .colab-df-quickchart:hover {\n",
              "    background-color: var(--hover-bg-color);\n",
              "    box-shadow: 0 1px 2px rgba(60, 64, 67, 0.3), 0 1px 3px 1px rgba(60, 64, 67, 0.15);\n",
              "    fill: var(--button-hover-fill-color);\n",
              "  }\n",
              "\n",
              "  .colab-df-quickchart-complete:disabled,\n",
              "  .colab-df-quickchart-complete:disabled:hover {\n",
              "    background-color: var(--disabled-bg-color);\n",
              "    fill: var(--disabled-fill-color);\n",
              "    box-shadow: none;\n",
              "  }\n",
              "\n",
              "  .colab-df-spinner {\n",
              "    border: 2px solid var(--fill-color);\n",
              "    border-color: transparent;\n",
              "    border-bottom-color: var(--fill-color);\n",
              "    animation:\n",
              "      spin 1s steps(1) infinite;\n",
              "  }\n",
              "\n",
              "  @keyframes spin {\n",
              "    0% {\n",
              "      border-color: transparent;\n",
              "      border-bottom-color: var(--fill-color);\n",
              "      border-left-color: var(--fill-color);\n",
              "    }\n",
              "    20% {\n",
              "      border-color: transparent;\n",
              "      border-left-color: var(--fill-color);\n",
              "      border-top-color: var(--fill-color);\n",
              "    }\n",
              "    30% {\n",
              "      border-color: transparent;\n",
              "      border-left-color: var(--fill-color);\n",
              "      border-top-color: var(--fill-color);\n",
              "      border-right-color: var(--fill-color);\n",
              "    }\n",
              "    40% {\n",
              "      border-color: transparent;\n",
              "      border-right-color: var(--fill-color);\n",
              "      border-top-color: var(--fill-color);\n",
              "    }\n",
              "    60% {\n",
              "      border-color: transparent;\n",
              "      border-right-color: var(--fill-color);\n",
              "    }\n",
              "    80% {\n",
              "      border-color: transparent;\n",
              "      border-right-color: var(--fill-color);\n",
              "      border-bottom-color: var(--fill-color);\n",
              "    }\n",
              "    90% {\n",
              "      border-color: transparent;\n",
              "      border-bottom-color: var(--fill-color);\n",
              "    }\n",
              "  }\n",
              "</style>\n",
              "\n",
              "  <script>\n",
              "    async function quickchart(key) {\n",
              "      const quickchartButtonEl =\n",
              "        document.querySelector('#' + key + ' button');\n",
              "      quickchartButtonEl.disabled = true;  // To prevent multiple clicks.\n",
              "      quickchartButtonEl.classList.add('colab-df-spinner');\n",
              "      try {\n",
              "        const charts = await google.colab.kernel.invokeFunction(\n",
              "            'suggestCharts', [key], {});\n",
              "      } catch (error) {\n",
              "        console.error('Error during call to suggestCharts:', error);\n",
              "      }\n",
              "      quickchartButtonEl.classList.remove('colab-df-spinner');\n",
              "      quickchartButtonEl.classList.add('colab-df-quickchart-complete');\n",
              "    }\n",
              "    (() => {\n",
              "      let quickchartButtonEl =\n",
              "        document.querySelector('#df-5fb9b6ac-c229-4b45-8029-0c89f2295c6a button');\n",
              "      quickchartButtonEl.style.display =\n",
              "        google.colab.kernel.accessAllowed ? 'block' : 'none';\n",
              "    })();\n",
              "  </script>\n",
              "</div>\n",
              "\n",
              "    </div>\n",
              "  </div>\n"
            ]
          },
          "metadata": {},
          "execution_count": 263
        }
      ]
    },
    {
      "cell_type": "code",
      "source": [
        "# Visualizando o tamanho da base de dados\n",
        "df.shape"
      ],
      "metadata": {
        "colab": {
          "base_uri": "https://localhost:8080/"
        },
        "id": "0RCoHuuzT3Rw",
        "outputId": "47c2508b-8284-4faf-93d6-395c85c38798"
      },
      "execution_count": null,
      "outputs": [
        {
          "output_type": "execute_result",
          "data": {
            "text/plain": [
              "(23020, 5)"
            ]
          },
          "metadata": {},
          "execution_count": 264
        }
      ]
    },
    {
      "cell_type": "markdown",
      "source": [
        "# Visualização e descrição das colunas"
      ],
      "metadata": {
        "id": "HHG_mqXUUD84"
      }
    },
    {
      "cell_type": "code",
      "source": [
        "# Verificando nome das colunas\n",
        "df.columns"
      ],
      "metadata": {
        "colab": {
          "base_uri": "https://localhost:8080/"
        },
        "id": "G4eK9ibeYJR4",
        "outputId": "56240248-c27b-4177-ba1b-42990657afa1"
      },
      "execution_count": null,
      "outputs": [
        {
          "output_type": "execute_result",
          "data": {
            "text/plain": [
              "Index(['UF', 'Tipo Crime', 'Ano', 'Mês', 'Ocorrências'], dtype='object')"
            ]
          },
          "metadata": {},
          "execution_count": 265
        }
      ]
    },
    {
      "cell_type": "code",
      "source": [
        "# Verificando o tipo de variável que a coluna armazena\n",
        "df.dtypes"
      ],
      "metadata": {
        "colab": {
          "base_uri": "https://localhost:8080/"
        },
        "id": "E0EQfF8VYhQe",
        "outputId": "dc679876-c0d3-4385-8c47-8c858aded777"
      },
      "execution_count": null,
      "outputs": [
        {
          "output_type": "execute_result",
          "data": {
            "text/plain": [
              "UF             object\n",
              "Tipo Crime     object\n",
              "Ano             int64\n",
              "Mês            object\n",
              "Ocorrências     int64\n",
              "dtype: object"
            ]
          },
          "metadata": {},
          "execution_count": 266
        }
      ]
    },
    {
      "cell_type": "markdown",
      "source": [
        "### Descrição:\n",
        "\n",
        "**DF**\n",
        "\n",
        "* `Tipo de dado:` objeto\n",
        "* `Descrição`: Referente as 27 Unidades Federativas, sendo os 26 Estados acrescidos do Distrito Federal(DF), que é o local onde fica a capital do país.\n",
        "\n",
        "**Tipo Crime**\n",
        "\n",
        "* `Tipo de dado:` objeto\n",
        "* `Descrição:` Representa o tipo de crime registrado na ocorrência. Os valores possíveis são os códigos dos crimes definidos pelo Código Penal Brasileiro.\n",
        "\n",
        "**Ano**\n",
        "\n",
        "* `Tipo de dado:` inteiro\n",
        "* `Descrição:` Representa o ano da ocorrência criminal.\n",
        "\n",
        "**Mês**\n",
        "\n",
        "* `Tipo de dado:` objeto\n",
        "* `Descrição:` Representa o mês da ocorrência criminal. Os valores possíveis são os nomes dos 12 meses do ano.\n",
        "\n",
        "**Ocorrências**\n",
        "\n",
        "* `Tipo de dado:` inteiro\n",
        "* `Descrição:` Representa o número de ocorrências criminais registradas no mês e na unidade federativa especificados."
      ],
      "metadata": {
        "id": "CdXWlBufU_ty"
      }
    },
    {
      "cell_type": "markdown",
      "source": [
        "# Começando a análise dos dados"
      ],
      "metadata": {
        "id": "Txojta97cAA3"
      }
    },
    {
      "cell_type": "markdown",
      "source": [
        "## Verificando o intervalo de tempo da base de dados"
      ],
      "metadata": {
        "id": "6L-go1GYcJ6m"
      }
    },
    {
      "cell_type": "code",
      "source": [
        "# Verificando a quantidade de anos que serão analisados\n",
        "df['Ano'].unique()"
      ],
      "metadata": {
        "colab": {
          "base_uri": "https://localhost:8080/"
        },
        "id": "dZbB5Vc5awoc",
        "outputId": "2b49ebad-fedc-44bc-8a11-a21efa4907f9"
      },
      "execution_count": null,
      "outputs": [
        {
          "output_type": "execute_result",
          "data": {
            "text/plain": [
              "array([2022, 2021, 2020, 2019, 2018, 2017, 2016, 2015])"
            ]
          },
          "metadata": {},
          "execution_count": 267
        }
      ]
    },
    {
      "cell_type": "markdown",
      "source": [
        "## Conferindo as unidades federativas"
      ],
      "metadata": {
        "id": "HoxIFERcdEu_"
      }
    },
    {
      "cell_type": "code",
      "source": [
        "df['UF'].unique"
      ],
      "metadata": {
        "colab": {
          "base_uri": "https://localhost:8080/"
        },
        "id": "MZSJYdUIdFUO",
        "outputId": "921c81c8-f268-4eea-e095-dd471da936a6"
      },
      "execution_count": null,
      "outputs": [
        {
          "output_type": "execute_result",
          "data": {
            "text/plain": [
              "<bound method Series.unique of 0             Acre\n",
              "1             Acre\n",
              "2             Acre\n",
              "3             Acre\n",
              "4             Acre\n",
              "           ...    \n",
              "23015    Tocantins\n",
              "23016    Tocantins\n",
              "23017    Tocantins\n",
              "23018    Tocantins\n",
              "23019    Tocantins\n",
              "Name: UF, Length: 23020, dtype: object>"
            ]
          },
          "metadata": {},
          "execution_count": 268
        }
      ]
    },
    {
      "cell_type": "markdown",
      "source": [
        "## Verificando se existe valores ausentes"
      ],
      "metadata": {
        "id": "pQuMC7wQdXjp"
      }
    },
    {
      "cell_type": "code",
      "source": [
        "df.isnull().sum()"
      ],
      "metadata": {
        "colab": {
          "base_uri": "https://localhost:8080/"
        },
        "id": "vbTvjykXdcXA",
        "outputId": "a4b63d7b-4a14-4946-c449-aa004989c34e"
      },
      "execution_count": null,
      "outputs": [
        {
          "output_type": "execute_result",
          "data": {
            "text/plain": [
              "UF             0\n",
              "Tipo Crime     0\n",
              "Ano            0\n",
              "Mês            0\n",
              "Ocorrências    0\n",
              "dtype: int64"
            ]
          },
          "metadata": {},
          "execution_count": 269
        }
      ]
    },
    {
      "cell_type": "markdown",
      "source": [
        "## Verificando os tipos de crimes"
      ],
      "metadata": {
        "id": "yyNZAgCqjfGS"
      }
    },
    {
      "cell_type": "code",
      "source": [
        "df['Tipo Crime'].unique()"
      ],
      "metadata": {
        "colab": {
          "base_uri": "https://localhost:8080/"
        },
        "id": "2TY3ziK3jjdh",
        "outputId": "55ad8b57-b99e-4246-ae72-d56f52638be3"
      },
      "execution_count": null,
      "outputs": [
        {
          "output_type": "execute_result",
          "data": {
            "text/plain": [
              "array(['Estupro', 'Furto de veículo', 'Homicídio doloso',\n",
              "       'Lesão corporal seguida de morte',\n",
              "       'Roubo a instituição financeira', 'Roubo de carga',\n",
              "       'Roubo de veículo', 'Roubo seguido de morte (latrocínio)',\n",
              "       'Tentativa de homicídio'], dtype=object)"
            ]
          },
          "metadata": {},
          "execution_count": 270
        }
      ]
    },
    {
      "cell_type": "markdown",
      "source": [
        "# Começando a visualização dos dados"
      ],
      "metadata": {
        "id": "R9gj_1_2fNpH"
      }
    },
    {
      "cell_type": "markdown",
      "source": [
        "## Classificação de crimes com mais ocorrências nos últimos anos"
      ],
      "metadata": {
        "id": "u-np5T53NSsb"
      }
    },
    {
      "cell_type": "code",
      "source": [
        "plt.style.use('seaborn-v0_8-whitegrid')\n",
        "plt.figure(figsize=(10, 6))\n",
        "df.groupby(['Tipo Crime'])['Ocorrências'].sum().plot.barh(title='Crimes com maiores ocorrências', color='orange');"
      ],
      "metadata": {
        "colab": {
          "base_uri": "https://localhost:8080/",
          "height": 470
        },
        "id": "hC0gI5Q2NXqm",
        "outputId": "7c4f9015-8fde-4bac-e555-141185fb3363"
      },
      "execution_count": null,
      "outputs": [
        {
          "output_type": "display_data",
          "data": {
            "text/plain": [
              "<Figure size 800x480 with 1 Axes>"
            ],
            "image/png": "[encoded data removed]"
          },
          "metadata": {}
        }
      ]
    },
    {
      "cell_type": "code",
      "source": [
        "df.groupby(['Tipo Crime'])['Ocorrências'].sum().sort_values(ascending=False)"
      ],
      "metadata": {
        "colab": {
          "base_uri": "https://localhost:8080/"
        },
        "id": "bMG9QJV2O3ov",
        "outputId": "a19698d9-6447-4748-9d8d-446d4729a287"
      },
      "execution_count": null,
      "outputs": [
        {
          "output_type": "execute_result",
          "data": {
            "text/plain": [
              "Tipo Crime\n",
              "Furto de veículo                       1851837\n",
              "Roubo de veículo                       1633495\n",
              "Estupro                                 406831\n",
              "Homicídio doloso                        354868\n",
              "Tentativa de homicídio                  289959\n",
              "Roubo de carga                          148342\n",
              "Roubo seguido de morte (latrocínio)      14263\n",
              "Lesão corporal seguida de morte           6100\n",
              "Roubo a instituição financeira            5298\n",
              "Name: Ocorrências, dtype: int64"
            ]
          },
          "metadata": {},
          "execution_count": 272
        }
      ]
    },
    {
      "cell_type": "markdown",
      "source": [
        "* `Furto de veículo`: 1.851.837\n",
        "* `Roubo de veículo`: 1.633.495\n",
        "* `Estupro`:  406.831\n",
        "* `Homicídio doloso`:  354.868\n",
        "* `Tentativa de homicídio`:  289.959\n",
        "* `Roubo de carga`:  148.342\n",
        "* `Roubo seguido de morte (latrocínio)`:  14.263\n",
        "* `Lesão corporal seguida de morte`:  6.100\n",
        "* `Roubo a instituição financeira`:  5.298"
      ],
      "metadata": {
        "id": "0Jdsx8n0Q3IS"
      }
    },
    {
      "cell_type": "markdown",
      "source": [
        "## Qual foi o ano com o maior e menor números de ocorrências?"
      ],
      "metadata": {
        "id": "mf5IzVI4fZ4j"
      }
    },
    {
      "cell_type": "code",
      "source": [
        "plt.style.use('classic')\n",
        "df.groupby(df['Ano'])['Ocorrências'].sum().plot(title='Ocorrências criminais no Brasil nos últimos anos', color='orange')\n",
        "plt.ylabel('Ocorrências');"
      ],
      "metadata": {
        "colab": {
          "base_uri": "https://localhost:8080/",
          "height": 470
        },
        "id": "YaO7aSnO4qGZ",
        "outputId": "a4770b5c-cfc1-415c-caa8-e0567544b8ba"
      },
      "execution_count": null,
      "outputs": [
        {
          "output_type": "display_data",
          "data": {
            "text/plain": [
              "<Figure size 640x480 with 1 Axes>"
            ],
            "image/png": "[encoded data removed]"
          },
          "metadata": {}
        }
      ]
    },
    {
      "cell_type": "markdown",
      "source": [
        "A análise das ocorrências nos últimos anos mostra que o ano com mais registros foi 2016, com mais de 700 mil ocorrências. O ano com menos registros foi 2020, com cerca de 450 mil ocorrências.\n",
        "\n",
        "A seguir, será apresentado um gráfico que mostra a distribuição das\n",
        "ocorrências por mês no de 2016."
      ],
      "metadata": {
        "id": "GBnDYWu51g-I"
      }
    },
    {
      "cell_type": "markdown",
      "source": [
        "## Distribuição mensal de ocorrências criminais no Brasil em 2016, ano com maior índice de criminalidade."
      ],
      "metadata": {
        "id": "nj7yZuy26R6D"
      }
    },
    {
      "cell_type": "code",
      "source": [
        "# Criando uma variável que irá receber dados apenas do ano de 2016\n",
        "df_2016 = df[df['Ano'] == 2020]"
      ],
      "metadata": {
        "id": "Oj1cmt-_6lbU"
      },
      "execution_count": null,
      "outputs": []
    },
    {
      "cell_type": "code",
      "source": [
        "# Confirmando para ver se existe apenas registros do ano de 2016\n",
        "df_2016['Ano'].unique()"
      ],
      "metadata": {
        "colab": {
          "base_uri": "https://localhost:8080/"
        },
        "id": "ihCWvhxk654h",
        "outputId": "a295f2cf-b7b0-4b30-82fd-dadc4826a40b"
      },
      "execution_count": null,
      "outputs": [
        {
          "output_type": "execute_result",
          "data": {
            "text/plain": [
              "array([2020])"
            ]
          },
          "metadata": {},
          "execution_count": 275
        }
      ]
    },
    {
      "cell_type": "code",
      "source": [
        "plt.figure(figsize=(10, 6))\n",
        "df_2016.groupby(['Mês'])['Ocorrências'].sum().plot.bar(title='Número de ocorrências por mês no ano de 2016', color='orange');"
      ],
      "metadata": {
        "colab": {
          "base_uri": "https://localhost:8080/",
          "height": 526
        },
        "id": "hj_nGjeT7JiJ",
        "outputId": "61d76745-9995-4d83-893f-5aa5a8b27d7c"
      },
      "execution_count": null,
      "outputs": [
        {
          "output_type": "display_data",
          "data": {
            "text/plain": [
              "<Figure size 800x480 with 1 Axes>"
            ],
            "image/png": "[encoded data removed]"
          },
          "metadata": {}
        }
      ]
    },
    {
      "cell_type": "markdown",
      "source": [
        "###Ocorrências criminais por mês no ano de 2016\n",
        "* `Janeiro`: 47.347\n",
        "* `Fevereiro`: 45.359\n",
        "* `Março`: 42.812\n",
        "* `Abril`: 34.636\n",
        "* `Maio`: 32.593\n",
        "* `Junho`: 32.427\n",
        "* `Julho`: 34.292\n",
        "* `Agosto`: 33.479\n",
        "* `Setembro`: 33.843\n",
        "* `Outubro`: 36.711\n",
        "* `Novembro`: 37.940\n",
        "* `Dezembro`: 38.815"
      ],
      "metadata": {
        "id": "UdcmYq7P_aRe"
      }
    },
    {
      "cell_type": "markdown",
      "source": [
        "## Tendência de homicídios dolosos por UF ao longo dos últimos 5 anos."
      ],
      "metadata": {
        "id": "60FBTMjAkjZz"
      }
    },
    {
      "cell_type": "code",
      "source": [
        "# Criando uma base de dados que recebe apenas homicidios dolosos\n",
        "df_homicidio_doloso = df[df['Tipo Crime'] == 'Homicídio doloso']"
      ],
      "metadata": {
        "id": "sPrfo9AQ8qWG"
      },
      "execution_count": null,
      "outputs": []
    },
    {
      "cell_type": "code",
      "source": [
        "plt.figure(figsize=(10, 10))\n",
        "plt.style.use('seaborn-v0_8')\n",
        "df_homicidio_doloso.groupby(['Ano'])['Ocorrências'].sum().plot.pie(title='Ocorrências de homicídios dolosos nos últimos anos')\n",
        "plt.ylabel('');"
      ],
      "metadata": {
        "colab": {
          "base_uri": "https://localhost:8080/",
          "height": 667
        },
        "id": "0NLo3aIFDsKt",
        "outputId": "789c3f44-222e-44da-c7ad-fb49892004a6"
      },
      "execution_count": null,
      "outputs": [
        {
          "output_type": "display_data",
          "data": {
            "text/plain": [
              "<Figure size 800x800 with 1 Axes>"
            ],
            "image/png": "[encoded data removed]"
          },
          "metadata": {}
        }
      ]
    },
    {
      "cell_type": "code",
      "source": [
        "# Homicidios dolosos em números\n",
        "df_homicidio_doloso.groupby(['Ano'])['Ocorrências'].sum().sort_values()"
      ],
      "metadata": {
        "colab": {
          "base_uri": "https://localhost:8080/"
        },
        "id": "7cHwzd9vJHf4",
        "outputId": "97bed902-da4b-491a-deee-fc08e7fa5269"
      },
      "execution_count": null,
      "outputs": [
        {
          "output_type": "execute_result",
          "data": {
            "text/plain": [
              "Ano\n",
              "2022    37439\n",
              "2019    37847\n",
              "2021    38137\n",
              "2020    40470\n",
              "2018    46321\n",
              "2015    49628\n",
              "2016    51645\n",
              "2017    53381\n",
              "Name: Ocorrências, dtype: int64"
            ]
          },
          "metadata": {},
          "execution_count": 279
        }
      ]
    },
    {
      "cell_type": "markdown",
      "source": [
        "### Homicídios dolosos nos últimos anos em números\n",
        "\n",
        "* `2015`: 49.628\n",
        "* `2016`: 51.645\n",
        "* `2017`: 53.381\n",
        "* `2018`: 46.321\n",
        "* `2019`: 37.847\n",
        "* `2020`: 40.470\n",
        "* `2021`: 38.137\n",
        "* `2022`: 37.439\n",
        "\n",
        "De acordo com o gráfico e os números apresentados, o ano com o maior número de homicídios dolosos no Brasil foi 2017, com 53.381 ocorrências. Em 2022, o número de homicídios caiu para 37.439, o menor valor registrado desde o início da série histórica."
      ],
      "metadata": {
        "id": "DHcqCE12KLPU"
      }
    },
    {
      "cell_type": "markdown",
      "source": [
        "## Roubo de veículos: comparação por UF em 2022"
      ],
      "metadata": {
        "id": "IctYC0-QSbjM"
      }
    },
    {
      "cell_type": "code",
      "source": [
        "# Criando uma nova base de dados que recebe apenas crimes de roubo de veículos no de 2022\n",
        "df_roubo_2022 = df.loc[(df['Tipo Crime'] == 'Roubo de veículo') & (df['Ano'] == 2022)]"
      ],
      "metadata": {
        "id": "4cBhN8NfSqOc"
      },
      "execution_count": null,
      "outputs": []
    },
    {
      "cell_type": "code",
      "source": [
        "plt.style.use('fivethirtyeight')\n",
        "plt.figure(figsize=(15, 6))\n",
        "df_roubo_2022.groupby(['Mês'])['Ocorrências'].sum().plot.barh(title='Índice de roubo de carros mensais no ano de 2022 (meses não-ordenados)', color='orange');"
      ],
      "metadata": {
        "colab": {
          "base_uri": "https://localhost:8080/",
          "height": 474
        },
        "id": "R7zy5l4CT6Km",
        "outputId": "22d8bb2c-2cf4-4f45-c56d-af7031e0c015"
      },
      "execution_count": null,
      "outputs": [
        {
          "output_type": "display_data",
          "data": {
            "text/plain": [
              "<Figure size 1200x480 with 1 Axes>"
            ],
            "image/png": "[encoded data removed]"
          },
          "metadata": {}
        }
      ]
    },
    {
      "cell_type": "code",
      "source": [
        "df_roubo_2022.groupby(['Mês'])['Ocorrências'].sum()"
      ],
      "metadata": {
        "colab": {
          "base_uri": "https://localhost:8080/"
        },
        "id": "W75ilRoHWFcG",
        "outputId": "be0639d9-39b9-41a3-daaf-1cd20ea55620"
      },
      "execution_count": null,
      "outputs": [
        {
          "output_type": "execute_result",
          "data": {
            "text/plain": [
              "Mês\n",
              "abril        11185\n",
              "agosto       11268\n",
              "dezembro     13096\n",
              "fevereiro    10476\n",
              "janeiro      10953\n",
              "julho        11502\n",
              "junho        11102\n",
              "maio         11692\n",
              "março        12709\n",
              "novembro     13135\n",
              "outubro      12590\n",
              "setembro     11519\n",
              "Name: Ocorrências, dtype: int64"
            ]
          },
          "metadata": {},
          "execution_count": 282
        }
      ]
    },
    {
      "cell_type": "markdown",
      "source": [
        "###Número de ocorrências de roubo de carros no ano de 2022\n",
        "* `Janeiro`: 10.953\n",
        "* `Fevereiro`: 10.476\n",
        "* `Março`: 12.709\n",
        "* `Abril`: 11.185\n",
        "* `Maio`: 11.692\n",
        "* `Junho`: 11.102\n",
        "* `Julho`: 11.502\n",
        "* `Agosto`: 11.268\n",
        "* `Setembro`: 11.519\n",
        "* `Outubro`: 12.590\n",
        "* `Novembro`: 13.135\n",
        "* `Dezembro`: 13.096"
      ],
      "metadata": {
        "id": "alcO4AGAWJDI"
      }
    },
    {
      "cell_type": "markdown",
      "source": [
        "## Número de ocorrências de estupro nos últimos anos"
      ],
      "metadata": {
        "id": "7KU6eES7XCD5"
      }
    },
    {
      "cell_type": "code",
      "source": [
        "# Criando uma variável que recebe apenas crime de estrupo nos últimos anos\n",
        "df_estr = df[df['Tipo Crime'] == 'Estupro']\n",
        "df_estr.head()"
      ],
      "metadata": {
        "colab": {
          "base_uri": "https://localhost:8080/",
          "height": 206
        },
        "id": "5gkcN-KsXEK1",
        "outputId": "d9f31217-ca4d-4cd8-e48f-88c077afa6a9"
      },
      "execution_count": null,
      "outputs": [
        {
          "output_type": "execute_result",
          "data": {
            "text/plain": [
              "      UF Tipo Crime   Ano        Mês  Ocorrências\n",
              "0   Acre    Estupro  2022    janeiro           31\n",
              "9   Acre    Estupro  2022  fevereiro           34\n",
              "18  Acre    Estupro  2022      março           57\n",
              "27  Acre    Estupro  2022      abril           28\n",
              "32  Acre    Estupro  2022       maio           45"
            ],
            "text/html": [
              "\n",
              "  <div id=\"df-97ed8ddd-cd42-4ec8-917f-b647c62a4080\" class=\"colab-df-container\">\n",
              "    <div>\n",
              "<style scoped>\n",
              "    .dataframe tbody tr th:only-of-type {\n",
              "        vertical-align: middle;\n",
              "    }\n",
              "\n",
              "    .dataframe tbody tr th {\n",
              "        vertical-align: top;\n",
              "    }\n",
              "\n",
              "    .dataframe thead th {\n",
              "        text-align: right;\n",
              "    }\n",
              "</style>\n",
              "<table border=\"1\" class=\"dataframe\">\n",
              "  <thead>\n",
              "    <tr style=\"text-align: right;\">\n",
              "      <th></th>\n",
              "      <th>UF</th>\n",
              "      <th>Tipo Crime</th>\n",
              "      <th>Ano</th>\n",
              "      <th>Mês</th>\n",
              "      <th>Ocorrências</th>\n",
              "    </tr>\n",
              "  </thead>\n",
              "  <tbody>\n",
              "    <tr>\n",
              "      <th>0</th>\n",
              "      <td>Acre</td>\n",
              "      <td>Estupro</td>\n",
              "      <td>2022</td>\n",
              "      <td>janeiro</td>\n",
              "      <td>31</td>\n",
              "    </tr>\n",
              "    <tr>\n",
              "      <th>9</th>\n",
              "      <td>Acre</td>\n",
              "      <td>Estupro</td>\n",
              "      <td>2022</td>\n",
              "      <td>fevereiro</td>\n",
              "      <td>34</td>\n",
              "    </tr>\n",
              "    <tr>\n",
              "      <th>18</th>\n",
              "      <td>Acre</td>\n",
              "      <td>Estupro</td>\n",
              "      <td>2022</td>\n",
              "      <td>março</td>\n",
              "      <td>57</td>\n",
              "    </tr>\n",
              "    <tr>\n",
              "      <th>27</th>\n",
              "      <td>Acre</td>\n",
              "      <td>Estupro</td>\n",
              "      <td>2022</td>\n",
              "      <td>abril</td>\n",
              "      <td>28</td>\n",
              "    </tr>\n",
              "    <tr>\n",
              "      <th>32</th>\n",
              "      <td>Acre</td>\n",
              "      <td>Estupro</td>\n",
              "      <td>2022</td>\n",
              "      <td>maio</td>\n",
              "      <td>45</td>\n",
              "    </tr>\n",
              "  </tbody>\n",
              "</table>\n",
              "</div>\n",
              "    <div class=\"colab-df-buttons\">\n",
              "\n",
              "  <div class=\"colab-df-container\">\n",
              "    <button class=\"colab-df-convert\" onclick=\"convertToInteractive('df-97ed8ddd-cd42-4ec8-917f-b647c62a4080')\"\n",
              "            title=\"Convert this dataframe to an interactive table.\"\n",
              "            style=\"display:none;\">\n",
              "\n",
              "  <svg xmlns=\"http://www.w3.org/2000/svg\" height=\"24px\" viewBox=\"0 -960 960 960\">\n",
              "    <path d=\"M120-120v-720h720v720H120Zm60-500h600v-160H180v160Zm220 220h160v-160H400v160Zm0 220h160v-160H400v160ZM180-400h160v-160H180v160Zm440 0h160v-160H620v160ZM180-180h160v-160H180v160Zm440 0h160v-160H620v160Z\"/>\n",
              "  </svg>\n",
              "    </button>\n",
              "\n",
              "  <style>\n",
              "    .colab-df-container {\n",
              "      display:flex;\n",
              "      gap: 12px;\n",
              "    }\n",
              "\n",
              "    .colab-df-convert {\n",
              "      background-color: #E8F0FE;\n",
              "      border: none;\n",
              "      border-radius: 50%;\n",
              "      cursor: pointer;\n",
              "      display: none;\n",
              "      fill: #1967D2;\n",
              "      height: 32px;\n",
              "      padding: 0 0 0 0;\n",
              "      width: 32px;\n",
              "    }\n",
              "\n",
              "    .colab-df-convert:hover {\n",
              "      background-color: #E2EBFA;\n",
              "      box-shadow: 0px 1px 2px rgba(60, 64, 67, 0.3), 0px 1px 3px 1px rgba(60, 64, 67, 0.15);\n",
              "      fill: #174EA6;\n",
              "    }\n",
              "\n",
              "    .colab-df-buttons div {\n",
              "      margin-bottom: 4px;\n",
              "    }\n",
              "\n",
              "    [theme=dark] .colab-df-convert {\n",
              "      background-color: #3B4455;\n",
              "      fill: #D2E3FC;\n",
              "    }\n",
              "\n",
              "    [theme=dark] .colab-df-convert:hover {\n",
              "      background-color: #434B5C;\n",
              "      box-shadow: 0px 1px 3px 1px rgba(0, 0, 0, 0.15);\n",
              "      filter: drop-shadow(0px 1px 2px rgba(0, 0, 0, 0.3));\n",
              "      fill: #FFFFFF;\n",
              "    }\n",
              "  </style>\n",
              "\n",
              "    <script>\n",
              "      const buttonEl =\n",
              "        document.querySelector('#df-97ed8ddd-cd42-4ec8-917f-b647c62a4080 button.colab-df-convert');\n",
              "      buttonEl.style.display =\n",
              "        google.colab.kernel.accessAllowed ? 'block' : 'none';\n",
              "\n",
              "      async function convertToInteractive(key) {\n",
              "        const element = document.querySelector('#df-97ed8ddd-cd42-4ec8-917f-b647c62a4080');\n",
              "        const dataTable =\n",
              "          await google.colab.kernel.invokeFunction('convertToInteractive',\n",
              "                                                    [key], {});\n",
              "        if (!dataTable) return;\n",
              "\n",
              "        const docLinkHtml = 'Like what you see? Visit the ' +\n",
              "          '<a target=\"_blank\" href=https://colab.research.google.com/notebooks/data_table.ipynb>data table notebook</a>'\n",
              "          + ' to learn more about interactive tables.';\n",
              "        element.innerHTML = '';\n",
              "        dataTable['output_type'] = 'display_data';\n",
              "        await google.colab.output.renderOutput(dataTable, element);\n",
              "        const docLink = document.createElement('div');\n",
              "        docLink.innerHTML = docLinkHtml;\n",
              "        element.appendChild(docLink);\n",
              "      }\n",
              "    </script>\n",
              "  </div>\n",
              "\n",
              "\n",
              "<div id=\"df-20e52381-fe13-49fe-a897-9a12f755b906\">\n",
              "  <button class=\"colab-df-quickchart\" onclick=\"quickchart('df-20e52381-fe13-49fe-a897-9a12f755b906')\"\n",
              "            title=\"Suggest charts\"\n",
              "            style=\"display:none;\">\n",
              "\n",
              "<svg xmlns=\"http://www.w3.org/2000/svg\" height=\"24px\"viewBox=\"0 0 24 24\"\n",
              "     width=\"24px\">\n",
              "    <g>\n",
              "        <path d=\"M19 3H5c-1.1 0-2 .9-2 2v14c0 1.1.9 2 2 2h14c1.1 0 2-.9 2-2V5c0-1.1-.9-2-2-2zM9 17H7v-7h2v7zm4 0h-2V7h2v10zm4 0h-2v-4h2v4z\"/>\n",
              "    </g>\n",
              "</svg>\n",
              "  </button>\n",
              "\n",
              "<style>\n",
              "  .colab-df-quickchart {\n",
              "      --bg-color: #E8F0FE;\n",
              "      --fill-color: #1967D2;\n",
              "      --hover-bg-color: #E2EBFA;\n",
              "      --hover-fill-color: #174EA6;\n",
              "      --disabled-fill-color: #AAA;\n",
              "      --disabled-bg-color: #DDD;\n",
              "  }\n",
              "\n",
              "  [theme=dark] .colab-df-quickchart {\n",
              "      --bg-color: #3B4455;\n",
              "      --fill-color: #D2E3FC;\n",
              "      --hover-bg-color: #434B5C;\n",
              "      --hover-fill-color: #FFFFFF;\n",
              "      --disabled-bg-color: #3B4455;\n",
              "      --disabled-fill-color: #666;\n",
              "  }\n",
              "\n",
              "  .colab-df-quickchart {\n",
              "    background-color: var(--bg-color);\n",
              "    border: none;\n",
              "    border-radius: 50%;\n",
              "    cursor: pointer;\n",
              "    display: none;\n",
              "    fill: var(--fill-color);\n",
              "    height: 32px;\n",
              "    padding: 0;\n",
              "    width: 32px;\n",
              "  }\n",
              "\n",
              "  .colab-df-quickchart:hover {\n",
              "    background-color: var(--hover-bg-color);\n",
              "    box-shadow: 0 1px 2px rgba(60, 64, 67, 0.3), 0 1px 3px 1px rgba(60, 64, 67, 0.15);\n",
              "    fill: var(--button-hover-fill-color);\n",
              "  }\n",
              "\n",
              "  .colab-df-quickchart-complete:disabled,\n",
              "  .colab-df-quickchart-complete:disabled:hover {\n",
              "    background-color: var(--disabled-bg-color);\n",
              "    fill: var(--disabled-fill-color);\n",
              "    box-shadow: none;\n",
              "  }\n",
              "\n",
              "  .colab-df-spinner {\n",
              "    border: 2px solid var(--fill-color);\n",
              "    border-color: transparent;\n",
              "    border-bottom-color: var(--fill-color);\n",
              "    animation:\n",
              "      spin 1s steps(1) infinite;\n",
              "  }\n",
              "\n",
              "  @keyframes spin {\n",
              "    0% {\n",
              "      border-color: transparent;\n",
              "      border-bottom-color: var(--fill-color);\n",
              "      border-left-color: var(--fill-color);\n",
              "    }\n",
              "    20% {\n",
              "      border-color: transparent;\n",
              "      border-left-color: var(--fill-color);\n",
              "      border-top-color: var(--fill-color);\n",
              "    }\n",
              "    30% {\n",
              "      border-color: transparent;\n",
              "      border-left-color: var(--fill-color);\n",
              "      border-top-color: var(--fill-color);\n",
              "      border-right-color: var(--fill-color);\n",
              "    }\n",
              "    40% {\n",
              "      border-color: transparent;\n",
              "      border-right-color: var(--fill-color);\n",
              "      border-top-color: var(--fill-color);\n",
              "    }\n",
              "    60% {\n",
              "      border-color: transparent;\n",
              "      border-right-color: var(--fill-color);\n",
              "    }\n",
              "    80% {\n",
              "      border-color: transparent;\n",
              "      border-right-color: var(--fill-color);\n",
              "      border-bottom-color: var(--fill-color);\n",
              "    }\n",
              "    90% {\n",
              "      border-color: transparent;\n",
              "      border-bottom-color: var(--fill-color);\n",
              "    }\n",
              "  }\n",
              "</style>\n",
              "\n",
              "  <script>\n",
              "    async function quickchart(key) {\n",
              "      const quickchartButtonEl =\n",
              "        document.querySelector('#' + key + ' button');\n",
              "      quickchartButtonEl.disabled = true;  // To prevent multiple clicks.\n",
              "      quickchartButtonEl.classList.add('colab-df-spinner');\n",
              "      try {\n",
              "        const charts = await google.colab.kernel.invokeFunction(\n",
              "            'suggestCharts', [key], {});\n",
              "      } catch (error) {\n",
              "        console.error('Error during call to suggestCharts:', error);\n",
              "      }\n",
              "      quickchartButtonEl.classList.remove('colab-df-spinner');\n",
              "      quickchartButtonEl.classList.add('colab-df-quickchart-complete');\n",
              "    }\n",
              "    (() => {\n",
              "      let quickchartButtonEl =\n",
              "        document.querySelector('#df-20e52381-fe13-49fe-a897-9a12f755b906 button');\n",
              "      quickchartButtonEl.style.display =\n",
              "        google.colab.kernel.accessAllowed ? 'block' : 'none';\n",
              "    })();\n",
              "  </script>\n",
              "</div>\n",
              "\n",
              "    </div>\n",
              "  </div>\n"
            ]
          },
          "metadata": {},
          "execution_count": 283
        }
      ]
    },
    {
      "cell_type": "code",
      "source": [
        "# Ocorrências de estupro nos últimos anos\n",
        "plt.style.use('fivethirtyeight')\n",
        "plt.figure(figsize=(15, 6))\n",
        "df_estr.groupby(df_estr['Ano'])['Ocorrências'].sum().plot(marker='o', title='Ocorrências de estupro nos últimos anos no Brasil', color='orange')\n",
        "plt.xlabel('Ocorrências')\n",
        "plt.ylabel('Ano');"
      ],
      "metadata": {
        "colab": {
          "base_uri": "https://localhost:8080/",
          "height": 493
        },
        "id": "qd5DeUfEYTNN",
        "outputId": "e16cbe4f-6a2f-4930-94ad-1738a636b63f"
      },
      "execution_count": null,
      "outputs": [
        {
          "output_type": "display_data",
          "data": {
            "text/plain": [
              "<Figure size 1200x480 with 1 Axes>"
            ],
            "image/png": "[encoded data removed]"
          },
          "metadata": {}
        }
      ]
    },
    {
      "cell_type": "code",
      "source": [
        "df_estr.groupby(df_estr['Ano'])['Ocorrências'].sum()"
      ],
      "metadata": {
        "colab": {
          "base_uri": "https://localhost:8080/"
        },
        "id": "WeziK7HoZns2",
        "outputId": "0b7847ba-1692-4408-e715-6f9a509d41db"
      },
      "execution_count": null,
      "outputs": [
        {
          "output_type": "execute_result",
          "data": {
            "text/plain": [
              "Ano\n",
              "2015    43591\n",
              "2016    46779\n",
              "2017    50513\n",
              "2018    53233\n",
              "2019    53936\n",
              "2020    48132\n",
              "2021    52560\n",
              "2022    58087\n",
              "Name: Ocorrências, dtype: int64"
            ]
          },
          "metadata": {},
          "execution_count": 285
        }
      ]
    },
    {
      "cell_type": "code",
      "source": [
        "# Soma total de ocorrências de estupro\n",
        "df_estr['Ocorrências'].sum()"
      ],
      "metadata": {
        "colab": {
          "base_uri": "https://localhost:8080/"
        },
        "id": "Q2PKKaQzZ7ea",
        "outputId": "4aeafc40-9295-4e1a-ea0c-7b6ca5c9307c"
      },
      "execution_count": null,
      "outputs": [
        {
          "output_type": "execute_result",
          "data": {
            "text/plain": [
              "406831"
            ]
          },
          "metadata": {},
          "execution_count": 286
        }
      ]
    },
    {
      "cell_type": "markdown",
      "source": [
        "### Ocorrência de estupro nos últimos anos\n",
        "\n",
        "* `2015`: 43591\n",
        "* `2016`: 46779\n",
        "* `2017`: 50513\n",
        "* `2018`: 53233\n",
        "* `2019`: 53936\n",
        "* `2020`: 48132\n",
        "* `2021`: 52560\n",
        "* `2022`: 58087\n",
        "\n",
        "\n",
        "Os casos de estupro aumentaram de forma alarmante ao longo de oito anos, indo de 43.591 em 2015 para 58.087 em 2022, totalizando 406.831 ocorrências. Isso destaca a urgência de medidas eficazes para enfrentar esse problema crescente."
      ],
      "metadata": {
        "id": "gEzRPNItashv"
      }
    },
    {
      "cell_type": "markdown",
      "source": [
        "# Conclusão"
      ],
      "metadata": {
        "id": "iUAbOFQWbyze"
      }
    },
    {
      "cell_type": "markdown",
      "source": [
        "Em resumo, a análise das ocorrências criminais por estado no Brasil revelou que crimes como furto e roubo de veículos, estupro e homicídio doloso são desafios significativos. A variação ao longo dos anos mostrou picos em 2016 e quedas em 2020. A análise por estado destacou disparidades nos índices de criminalidade.\n",
        "\n",
        "No ano de 2022, o roubo de veículos teve variações mensais, indicando necessidade de abordagens específicas em diferentes períodos. Os homicídios dolosos tiveram uma redução em 2022, o que é positivo, mas ainda exige atenção contínua.\n",
        "\n",
        "O aumento constante nos casos de estupro ao longo dos anos é alarmante, exigindo ações urgentes para enfrentar e prevenir esse tipo de crime. Em resumo, é crucial que autoridades e sociedade trabalhem juntas para desenvolver estratégias eficazes e criar um ambiente mais seguro para todos os cidadãos."
      ],
      "metadata": {
        "id": "BHtbcFijct7e"
      }
    },
    {
      "cell_type": "markdown",
      "source": [
        "##### Autor: Kaíque Freire dos Santos\n",
        "Data: 18-01-2024"
      ],
      "metadata": {
        "id": "gMZnHvyfgMHM"
      }
    }
  ]
}