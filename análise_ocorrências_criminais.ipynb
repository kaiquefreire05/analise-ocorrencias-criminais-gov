{
  "nbformat": 4,
  "nbformat_minor": 0,
  "metadata": {
    "colab": {
      "provenance": [],
      "mount_file_id": "1CPtc0qZ9tfX8b1iZuvfqdq5bNCCvPdF4",
      "authorship_tag": "ABX9TyNglH33Qh6BA04MniAqvtyb",
      "include_colab_link": true
    },
    "kernelspec": {
      "name": "python3",
      "display_name": "Python 3"
    },
    "language_info": {
      "name": "python"
    }
  },
  "cells": [
    {
      "cell_type": "markdown",
      "metadata": {
        "id": "view-in-github",
        "colab_type": "text"
      },
      "source": [
        "<a href=\"https://colab.research.google.com/github/kaiquefreire05/analise-ocorrencias-criminais-gov/blob/main/an%C3%A1lise_ocorr%C3%AAncias_criminais.ipynb\" target=\"_parent\"><img src=\"https://colab.research.google.com/assets/colab-badge.svg\" alt=\"Open In Colab\"/></a>"
      ]
    },
    {
      "cell_type": "markdown",
      "source": [
        "# Analisando ocorrências criminais por UF (Unidade de federação)"
      ],
      "metadata": {
        "id": "CqYhRMQhNmUu"
      }
    },
    {
      "cell_type": "markdown",
      "source": [
        "A violência e a criminalidade são problemas complexos que afetam a sociedade brasileira há décadas. Esses problemas têm consequências graves para a vida das pessoas, incluindo perdas humanas, danos materiais e prejuízos econômicos.\n",
        "\n",
        "Para compreender melhor esses problemas e desenvolver políticas públicas mais eficazes para combatê-los, é importante realizar análises de dados.\n",
        "\n",
        "Neste projeto, vamos analisar um dataset de ocorrências criminais por unidade federativa no Brasil.\n",
        "\n",
        "A análise dos dados nos permitirá:\n",
        "\n",
        "* Identificar tendências e padrões de criminalidade no Brasil;\n",
        "\n",
        "* Comparar a situação de diferentes unidades federativas em relação à criminalidade;\n",
        "\n",
        "* Propor hipóteses sobre os fatores que podem contribuir para a criminalidade;\n",
        "\n",
        "* Avaliar a eficácia de políticas públicas de segurança pública."
      ],
      "metadata": {
        "id": "WrgFJnIaOC-k"
      }
    },
    {
      "cell_type": "markdown",
      "source": [
        "# Coleta dos dados"
      ],
      "metadata": {
        "id": "fap0G0NbQgcK"
      }
    },
    {
      "cell_type": "markdown",
      "source": [
        "O dataset foi disponibilizado pelo Ministério da Justiça e Segurança Pública e contém informações sobre o número de ocorrências, natureza do fato registrado, perfil da vítima, perfil do autor, meios empregados, dentre outras."
      ],
      "metadata": {
        "id": "Fc69LMXjQiLp"
      }
    },
    {
      "cell_type": "markdown",
      "source": [
        "# Objetivos"
      ],
      "metadata": {
        "id": "1U8aw54rRIJS"
      }
    },
    {
      "cell_type": "markdown",
      "source": [
        "Os objetivos deste projeto são:\n",
        "\n",
        "* Identificar as principais tendências e padrões de criminalidade no Brasil;\n",
        "\n",
        "* Comparar a situação de diferentes unidades federativas em relação à criminalidade;\n",
        "\n",
        "* Identificar fatores que podem contribuir para a criminalidade."
      ],
      "metadata": {
        "id": "0BWTT9oPRJQL"
      }
    },
    {
      "cell_type": "markdown",
      "source": [
        "# Primeiros passos"
      ],
      "metadata": {
        "id": "UIR86i4_TGQ-"
      }
    },
    {
      "cell_type": "markdown",
      "source": [
        "## Importando bibliotecas que serão usadas"
      ],
      "metadata": {
        "id": "WMpYjdwJRfPi"
      }
    },
    {
      "cell_type": "code",
      "source": [
        "# Bibliotecas necessárias\n",
        "import pandas as pd\n",
        "import matplotlib.pyplot as plt"
      ],
      "metadata": {
        "id": "wydRBGmvRjpn"
      },
      "execution_count": 220,
      "outputs": []
    },
    {
      "cell_type": "markdown",
      "source": [
        "## Fazendo a leitura da base de dados"
      ],
      "metadata": {
        "id": "L1uMLYTEboSe"
      }
    },
    {
      "cell_type": "code",
      "source": [
        "# Fazendo leitura da base de dados\n",
        "df = pd.read_excel('/content/drive/MyDrive/datasets/indicadoressegurancapublicauf.xlsx')"
      ],
      "metadata": {
        "id": "8-h6dvv8SjNo"
      },
      "execution_count": 221,
      "outputs": []
    },
    {
      "cell_type": "markdown",
      "source": [
        "## Primeiras interações com a base de dados"
      ],
      "metadata": {
        "id": "DGXMIzqWTUYF"
      }
    },
    {
      "cell_type": "code",
      "source": [
        "# Verificando as 5 primeiras linhas\n",
        "df.head()"
      ],
      "metadata": {
        "colab": {
          "base_uri": "https://localhost:8080/",
          "height": 206
        },
        "id": "ZkaI30rCTeRL",
        "outputId": "22f46e88-bcb3-4c2e-941e-673a90d23e56"
      },
      "execution_count": 222,
      "outputs": [
        {
          "output_type": "execute_result",
          "data": {
            "text/plain": [
              "     UF                       Tipo Crime   Ano      Mês  Ocorrências\n",
              "0  Acre                          Estupro  2022  janeiro           31\n",
              "1  Acre                 Furto de veículo  2022  janeiro           50\n",
              "2  Acre                 Homicídio doloso  2022  janeiro           10\n",
              "3  Acre  Lesão corporal seguida de morte  2022  janeiro            1\n",
              "4  Acre   Roubo a instituição financeira  2022  janeiro            0"
            ],
            "text/html": [
              "\n",
              "  <div id=\"df-8452211f-8b55-4295-b9e7-b8c01650096f\" class=\"colab-df-container\">\n",
              "    <div>\n",
              "<style scoped>\n",
              "    .dataframe tbody tr th:only-of-type {\n",
              "        vertical-align: middle;\n",
              "    }\n",
              "\n",
              "    .dataframe tbody tr th {\n",
              "        vertical-align: top;\n",
              "    }\n",
              "\n",
              "    .dataframe thead th {\n",
              "        text-align: right;\n",
              "    }\n",
              "</style>\n",
              "<table border=\"1\" class=\"dataframe\">\n",
              "  <thead>\n",
              "    <tr style=\"text-align: right;\">\n",
              "      <th></th>\n",
              "      <th>UF</th>\n",
              "      <th>Tipo Crime</th>\n",
              "      <th>Ano</th>\n",
              "      <th>Mês</th>\n",
              "      <th>Ocorrências</th>\n",
              "    </tr>\n",
              "  </thead>\n",
              "  <tbody>\n",
              "    <tr>\n",
              "      <th>0</th>\n",
              "      <td>Acre</td>\n",
              "      <td>Estupro</td>\n",
              "      <td>2022</td>\n",
              "      <td>janeiro</td>\n",
              "      <td>31</td>\n",
              "    </tr>\n",
              "    <tr>\n",
              "      <th>1</th>\n",
              "      <td>Acre</td>\n",
              "      <td>Furto de veículo</td>\n",
              "      <td>2022</td>\n",
              "      <td>janeiro</td>\n",
              "      <td>50</td>\n",
              "    </tr>\n",
              "    <tr>\n",
              "      <th>2</th>\n",
              "      <td>Acre</td>\n",
              "      <td>Homicídio doloso</td>\n",
              "      <td>2022</td>\n",
              "      <td>janeiro</td>\n",
              "      <td>10</td>\n",
              "    </tr>\n",
              "    <tr>\n",
              "      <th>3</th>\n",
              "      <td>Acre</td>\n",
              "      <td>Lesão corporal seguida de morte</td>\n",
              "      <td>2022</td>\n",
              "      <td>janeiro</td>\n",
              "      <td>1</td>\n",
              "    </tr>\n",
              "    <tr>\n",
              "      <th>4</th>\n",
              "      <td>Acre</td>\n",
              "      <td>Roubo a instituição financeira</td>\n",
              "      <td>2022</td>\n",
              "      <td>janeiro</td>\n",
              "      <td>0</td>\n",
              "    </tr>\n",
              "  </tbody>\n",
              "</table>\n",
              "</div>\n",
              "    <div class=\"colab-df-buttons\">\n",
              "\n",
              "  <div class=\"colab-df-container\">\n",
              "    <button class=\"colab-df-convert\" onclick=\"convertToInteractive('df-8452211f-8b55-4295-b9e7-b8c01650096f')\"\n",
              "            title=\"Convert this dataframe to an interactive table.\"\n",
              "            style=\"display:none;\">\n",
              "\n",
              "  <svg xmlns=\"http://www.w3.org/2000/svg\" height=\"24px\" viewBox=\"0 -960 960 960\">\n",
              "    <path d=\"M120-120v-720h720v720H120Zm60-500h600v-160H180v160Zm220 220h160v-160H400v160Zm0 220h160v-160H400v160ZM180-400h160v-160H180v160Zm440 0h160v-160H620v160ZM180-180h160v-160H180v160Zm440 0h160v-160H620v160Z\"/>\n",
              "  </svg>\n",
              "    </button>\n",
              "\n",
              "  <style>\n",
              "    .colab-df-container {\n",
              "      display:flex;\n",
              "      gap: 12px;\n",
              "    }\n",
              "\n",
              "    .colab-df-convert {\n",
              "      background-color: #E8F0FE;\n",
              "      border: none;\n",
              "      border-radius: 50%;\n",
              "      cursor: pointer;\n",
              "      display: none;\n",
              "      fill: #1967D2;\n",
              "      height: 32px;\n",
              "      padding: 0 0 0 0;\n",
              "      width: 32px;\n",
              "    }\n",
              "\n",
              "    .colab-df-convert:hover {\n",
              "      background-color: #E2EBFA;\n",
              "      box-shadow: 0px 1px 2px rgba(60, 64, 67, 0.3), 0px 1px 3px 1px rgba(60, 64, 67, 0.15);\n",
              "      fill: #174EA6;\n",
              "    }\n",
              "\n",
              "    .colab-df-buttons div {\n",
              "      margin-bottom: 4px;\n",
              "    }\n",
              "\n",
              "    [theme=dark] .colab-df-convert {\n",
              "      background-color: #3B4455;\n",
              "      fill: #D2E3FC;\n",
              "    }\n",
              "\n",
              "    [theme=dark] .colab-df-convert:hover {\n",
              "      background-color: #434B5C;\n",
              "      box-shadow: 0px 1px 3px 1px rgba(0, 0, 0, 0.15);\n",
              "      filter: drop-shadow(0px 1px 2px rgba(0, 0, 0, 0.3));\n",
              "      fill: #FFFFFF;\n",
              "    }\n",
              "  </style>\n",
              "\n",
              "    <script>\n",
              "      const buttonEl =\n",
              "        document.querySelector('#df-8452211f-8b55-4295-b9e7-b8c01650096f button.colab-df-convert');\n",
              "      buttonEl.style.display =\n",
              "        google.colab.kernel.accessAllowed ? 'block' : 'none';\n",
              "\n",
              "      async function convertToInteractive(key) {\n",
              "        const element = document.querySelector('#df-8452211f-8b55-4295-b9e7-b8c01650096f');\n",
              "        const dataTable =\n",
              "          await google.colab.kernel.invokeFunction('convertToInteractive',\n",
              "                                                    [key], {});\n",
              "        if (!dataTable) return;\n",
              "\n",
              "        const docLinkHtml = 'Like what you see? Visit the ' +\n",
              "          '<a target=\"_blank\" href=https://colab.research.google.com/notebooks/data_table.ipynb>data table notebook</a>'\n",
              "          + ' to learn more about interactive tables.';\n",
              "        element.innerHTML = '';\n",
              "        dataTable['output_type'] = 'display_data';\n",
              "        await google.colab.output.renderOutput(dataTable, element);\n",
              "        const docLink = document.createElement('div');\n",
              "        docLink.innerHTML = docLinkHtml;\n",
              "        element.appendChild(docLink);\n",
              "      }\n",
              "    </script>\n",
              "  </div>\n",
              "\n",
              "\n",
              "<div id=\"df-cc84d68c-df75-4ee6-afce-b6d7c12b7eb2\">\n",
              "  <button class=\"colab-df-quickchart\" onclick=\"quickchart('df-cc84d68c-df75-4ee6-afce-b6d7c12b7eb2')\"\n",
              "            title=\"Suggest charts\"\n",
              "            style=\"display:none;\">\n",
              "\n",
              "<svg xmlns=\"http://www.w3.org/2000/svg\" height=\"24px\"viewBox=\"0 0 24 24\"\n",
              "     width=\"24px\">\n",
              "    <g>\n",
              "        <path d=\"M19 3H5c-1.1 0-2 .9-2 2v14c0 1.1.9 2 2 2h14c1.1 0 2-.9 2-2V5c0-1.1-.9-2-2-2zM9 17H7v-7h2v7zm4 0h-2V7h2v10zm4 0h-2v-4h2v4z\"/>\n",
              "    </g>\n",
              "</svg>\n",
              "  </button>\n",
              "\n",
              "<style>\n",
              "  .colab-df-quickchart {\n",
              "      --bg-color: #E8F0FE;\n",
              "      --fill-color: #1967D2;\n",
              "      --hover-bg-color: #E2EBFA;\n",
              "      --hover-fill-color: #174EA6;\n",
              "      --disabled-fill-color: #AAA;\n",
              "      --disabled-bg-color: #DDD;\n",
              "  }\n",
              "\n",
              "  [theme=dark] .colab-df-quickchart {\n",
              "      --bg-color: #3B4455;\n",
              "      --fill-color: #D2E3FC;\n",
              "      --hover-bg-color: #434B5C;\n",
              "      --hover-fill-color: #FFFFFF;\n",
              "      --disabled-bg-color: #3B4455;\n",
              "      --disabled-fill-color: #666;\n",
              "  }\n",
              "\n",
              "  .colab-df-quickchart {\n",
              "    background-color: var(--bg-color);\n",
              "    border: none;\n",
              "    border-radius: 50%;\n",
              "    cursor: pointer;\n",
              "    display: none;\n",
              "    fill: var(--fill-color);\n",
              "    height: 32px;\n",
              "    padding: 0;\n",
              "    width: 32px;\n",
              "  }\n",
              "\n",
              "  .colab-df-quickchart:hover {\n",
              "    background-color: var(--hover-bg-color);\n",
              "    box-shadow: 0 1px 2px rgba(60, 64, 67, 0.3), 0 1px 3px 1px rgba(60, 64, 67, 0.15);\n",
              "    fill: var(--button-hover-fill-color);\n",
              "  }\n",
              "\n",
              "  .colab-df-quickchart-complete:disabled,\n",
              "  .colab-df-quickchart-complete:disabled:hover {\n",
              "    background-color: var(--disabled-bg-color);\n",
              "    fill: var(--disabled-fill-color);\n",
              "    box-shadow: none;\n",
              "  }\n",
              "\n",
              "  .colab-df-spinner {\n",
              "    border: 2px solid var(--fill-color);\n",
              "    border-color: transparent;\n",
              "    border-bottom-color: var(--fill-color);\n",
              "    animation:\n",
              "      spin 1s steps(1) infinite;\n",
              "  }\n",
              "\n",
              "  @keyframes spin {\n",
              "    0% {\n",
              "      border-color: transparent;\n",
              "      border-bottom-color: var(--fill-color);\n",
              "      border-left-color: var(--fill-color);\n",
              "    }\n",
              "    20% {\n",
              "      border-color: transparent;\n",
              "      border-left-color: var(--fill-color);\n",
              "      border-top-color: var(--fill-color);\n",
              "    }\n",
              "    30% {\n",
              "      border-color: transparent;\n",
              "      border-left-color: var(--fill-color);\n",
              "      border-top-color: var(--fill-color);\n",
              "      border-right-color: var(--fill-color);\n",
              "    }\n",
              "    40% {\n",
              "      border-color: transparent;\n",
              "      border-right-color: var(--fill-color);\n",
              "      border-top-color: var(--fill-color);\n",
              "    }\n",
              "    60% {\n",
              "      border-color: transparent;\n",
              "      border-right-color: var(--fill-color);\n",
              "    }\n",
              "    80% {\n",
              "      border-color: transparent;\n",
              "      border-right-color: var(--fill-color);\n",
              "      border-bottom-color: var(--fill-color);\n",
              "    }\n",
              "    90% {\n",
              "      border-color: transparent;\n",
              "      border-bottom-color: var(--fill-color);\n",
              "    }\n",
              "  }\n",
              "</style>\n",
              "\n",
              "  <script>\n",
              "    async function quickchart(key) {\n",
              "      const quickchartButtonEl =\n",
              "        document.querySelector('#' + key + ' button');\n",
              "      quickchartButtonEl.disabled = true;  // To prevent multiple clicks.\n",
              "      quickchartButtonEl.classList.add('colab-df-spinner');\n",
              "      try {\n",
              "        const charts = await google.colab.kernel.invokeFunction(\n",
              "            'suggestCharts', [key], {});\n",
              "      } catch (error) {\n",
              "        console.error('Error during call to suggestCharts:', error);\n",
              "      }\n",
              "      quickchartButtonEl.classList.remove('colab-df-spinner');\n",
              "      quickchartButtonEl.classList.add('colab-df-quickchart-complete');\n",
              "    }\n",
              "    (() => {\n",
              "      let quickchartButtonEl =\n",
              "        document.querySelector('#df-cc84d68c-df75-4ee6-afce-b6d7c12b7eb2 button');\n",
              "      quickchartButtonEl.style.display =\n",
              "        google.colab.kernel.accessAllowed ? 'block' : 'none';\n",
              "    })();\n",
              "  </script>\n",
              "</div>\n",
              "\n",
              "    </div>\n",
              "  </div>\n"
            ]
          },
          "metadata": {},
          "execution_count": 222
        }
      ]
    },
    {
      "cell_type": "code",
      "source": [
        "# Verificando as 5 últimas linhas\n",
        "df.tail()"
      ],
      "metadata": {
        "colab": {
          "base_uri": "https://localhost:8080/",
          "height": 206
        },
        "id": "AE_mR2yITvKn",
        "outputId": "d9903fcd-2f3d-48c7-b7a0-7ece502eb540"
      },
      "execution_count": 223,
      "outputs": [
        {
          "output_type": "execute_result",
          "data": {
            "text/plain": [
              "              UF                           Tipo Crime   Ano       Mês  \\\n",
              "23015  Tocantins       Roubo a instituição financeira  2015  dezembro   \n",
              "23016  Tocantins                       Roubo de carga  2015  dezembro   \n",
              "23017  Tocantins                     Roubo de veículo  2015  dezembro   \n",
              "23018  Tocantins  Roubo seguido de morte (latrocínio)  2015  dezembro   \n",
              "23019  Tocantins               Tentativa de homicídio  2015  dezembro   \n",
              "\n",
              "       Ocorrências  \n",
              "23015            6  \n",
              "23016            1  \n",
              "23017           55  \n",
              "23018            2  \n",
              "23019           42  "
            ],
            "text/html": [
              "\n",
              "  <div id=\"df-68be8cab-928b-4792-8454-92cf840cd0d1\" class=\"colab-df-container\">\n",
              "    <div>\n",
              "<style scoped>\n",
              "    .dataframe tbody tr th:only-of-type {\n",
              "        vertical-align: middle;\n",
              "    }\n",
              "\n",
              "    .dataframe tbody tr th {\n",
              "        vertical-align: top;\n",
              "    }\n",
              "\n",
              "    .dataframe thead th {\n",
              "        text-align: right;\n",
              "    }\n",
              "</style>\n",
              "<table border=\"1\" class=\"dataframe\">\n",
              "  <thead>\n",
              "    <tr style=\"text-align: right;\">\n",
              "      <th></th>\n",
              "      <th>UF</th>\n",
              "      <th>Tipo Crime</th>\n",
              "      <th>Ano</th>\n",
              "      <th>Mês</th>\n",
              "      <th>Ocorrências</th>\n",
              "    </tr>\n",
              "  </thead>\n",
              "  <tbody>\n",
              "    <tr>\n",
              "      <th>23015</th>\n",
              "      <td>Tocantins</td>\n",
              "      <td>Roubo a instituição financeira</td>\n",
              "      <td>2015</td>\n",
              "      <td>dezembro</td>\n",
              "      <td>6</td>\n",
              "    </tr>\n",
              "    <tr>\n",
              "      <th>23016</th>\n",
              "      <td>Tocantins</td>\n",
              "      <td>Roubo de carga</td>\n",
              "      <td>2015</td>\n",
              "      <td>dezembro</td>\n",
              "      <td>1</td>\n",
              "    </tr>\n",
              "    <tr>\n",
              "      <th>23017</th>\n",
              "      <td>Tocantins</td>\n",
              "      <td>Roubo de veículo</td>\n",
              "      <td>2015</td>\n",
              "      <td>dezembro</td>\n",
              "      <td>55</td>\n",
              "    </tr>\n",
              "    <tr>\n",
              "      <th>23018</th>\n",
              "      <td>Tocantins</td>\n",
              "      <td>Roubo seguido de morte (latrocínio)</td>\n",
              "      <td>2015</td>\n",
              "      <td>dezembro</td>\n",
              "      <td>2</td>\n",
              "    </tr>\n",
              "    <tr>\n",
              "      <th>23019</th>\n",
              "      <td>Tocantins</td>\n",
              "      <td>Tentativa de homicídio</td>\n",
              "      <td>2015</td>\n",
              "      <td>dezembro</td>\n",
              "      <td>42</td>\n",
              "    </tr>\n",
              "  </tbody>\n",
              "</table>\n",
              "</div>\n",
              "    <div class=\"colab-df-buttons\">\n",
              "\n",
              "  <div class=\"colab-df-container\">\n",
              "    <button class=\"colab-df-convert\" onclick=\"convertToInteractive('df-68be8cab-928b-4792-8454-92cf840cd0d1')\"\n",
              "            title=\"Convert this dataframe to an interactive table.\"\n",
              "            style=\"display:none;\">\n",
              "\n",
              "  <svg xmlns=\"http://www.w3.org/2000/svg\" height=\"24px\" viewBox=\"0 -960 960 960\">\n",
              "    <path d=\"M120-120v-720h720v720H120Zm60-500h600v-160H180v160Zm220 220h160v-160H400v160Zm0 220h160v-160H400v160ZM180-400h160v-160H180v160Zm440 0h160v-160H620v160ZM180-180h160v-160H180v160Zm440 0h160v-160H620v160Z\"/>\n",
              "  </svg>\n",
              "    </button>\n",
              "\n",
              "  <style>\n",
              "    .colab-df-container {\n",
              "      display:flex;\n",
              "      gap: 12px;\n",
              "    }\n",
              "\n",
              "    .colab-df-convert {\n",
              "      background-color: #E8F0FE;\n",
              "      border: none;\n",
              "      border-radius: 50%;\n",
              "      cursor: pointer;\n",
              "      display: none;\n",
              "      fill: #1967D2;\n",
              "      height: 32px;\n",
              "      padding: 0 0 0 0;\n",
              "      width: 32px;\n",
              "    }\n",
              "\n",
              "    .colab-df-convert:hover {\n",
              "      background-color: #E2EBFA;\n",
              "      box-shadow: 0px 1px 2px rgba(60, 64, 67, 0.3), 0px 1px 3px 1px rgba(60, 64, 67, 0.15);\n",
              "      fill: #174EA6;\n",
              "    }\n",
              "\n",
              "    .colab-df-buttons div {\n",
              "      margin-bottom: 4px;\n",
              "    }\n",
              "\n",
              "    [theme=dark] .colab-df-convert {\n",
              "      background-color: #3B4455;\n",
              "      fill: #D2E3FC;\n",
              "    }\n",
              "\n",
              "    [theme=dark] .colab-df-convert:hover {\n",
              "      background-color: #434B5C;\n",
              "      box-shadow: 0px 1px 3px 1px rgba(0, 0, 0, 0.15);\n",
              "      filter: drop-shadow(0px 1px 2px rgba(0, 0, 0, 0.3));\n",
              "      fill: #FFFFFF;\n",
              "    }\n",
              "  </style>\n",
              "\n",
              "    <script>\n",
              "      const buttonEl =\n",
              "        document.querySelector('#df-68be8cab-928b-4792-8454-92cf840cd0d1 button.colab-df-convert');\n",
              "      buttonEl.style.display =\n",
              "        google.colab.kernel.accessAllowed ? 'block' : 'none';\n",
              "\n",
              "      async function convertToInteractive(key) {\n",
              "        const element = document.querySelector('#df-68be8cab-928b-4792-8454-92cf840cd0d1');\n",
              "        const dataTable =\n",
              "          await google.colab.kernel.invokeFunction('convertToInteractive',\n",
              "                                                    [key], {});\n",
              "        if (!dataTable) return;\n",
              "\n",
              "        const docLinkHtml = 'Like what you see? Visit the ' +\n",
              "          '<a target=\"_blank\" href=https://colab.research.google.com/notebooks/data_table.ipynb>data table notebook</a>'\n",
              "          + ' to learn more about interactive tables.';\n",
              "        element.innerHTML = '';\n",
              "        dataTable['output_type'] = 'display_data';\n",
              "        await google.colab.output.renderOutput(dataTable, element);\n",
              "        const docLink = document.createElement('div');\n",
              "        docLink.innerHTML = docLinkHtml;\n",
              "        element.appendChild(docLink);\n",
              "      }\n",
              "    </script>\n",
              "  </div>\n",
              "\n",
              "\n",
              "<div id=\"df-4436130d-0892-4de2-854b-bc8c14b0f99a\">\n",
              "  <button class=\"colab-df-quickchart\" onclick=\"quickchart('df-4436130d-0892-4de2-854b-bc8c14b0f99a')\"\n",
              "            title=\"Suggest charts\"\n",
              "            style=\"display:none;\">\n",
              "\n",
              "<svg xmlns=\"http://www.w3.org/2000/svg\" height=\"24px\"viewBox=\"0 0 24 24\"\n",
              "     width=\"24px\">\n",
              "    <g>\n",
              "        <path d=\"M19 3H5c-1.1 0-2 .9-2 2v14c0 1.1.9 2 2 2h14c1.1 0 2-.9 2-2V5c0-1.1-.9-2-2-2zM9 17H7v-7h2v7zm4 0h-2V7h2v10zm4 0h-2v-4h2v4z\"/>\n",
              "    </g>\n",
              "</svg>\n",
              "  </button>\n",
              "\n",
              "<style>\n",
              "  .colab-df-quickchart {\n",
              "      --bg-color: #E8F0FE;\n",
              "      --fill-color: #1967D2;\n",
              "      --hover-bg-color: #E2EBFA;\n",
              "      --hover-fill-color: #174EA6;\n",
              "      --disabled-fill-color: #AAA;\n",
              "      --disabled-bg-color: #DDD;\n",
              "  }\n",
              "\n",
              "  [theme=dark] .colab-df-quickchart {\n",
              "      --bg-color: #3B4455;\n",
              "      --fill-color: #D2E3FC;\n",
              "      --hover-bg-color: #434B5C;\n",
              "      --hover-fill-color: #FFFFFF;\n",
              "      --disabled-bg-color: #3B4455;\n",
              "      --disabled-fill-color: #666;\n",
              "  }\n",
              "\n",
              "  .colab-df-quickchart {\n",
              "    background-color: var(--bg-color);\n",
              "    border: none;\n",
              "    border-radius: 50%;\n",
              "    cursor: pointer;\n",
              "    display: none;\n",
              "    fill: var(--fill-color);\n",
              "    height: 32px;\n",
              "    padding: 0;\n",
              "    width: 32px;\n",
              "  }\n",
              "\n",
              "  .colab-df-quickchart:hover {\n",
              "    background-color: var(--hover-bg-color);\n",
              "    box-shadow: 0 1px 2px rgba(60, 64, 67, 0.3), 0 1px 3px 1px rgba(60, 64, 67, 0.15);\n",
              "    fill: var(--button-hover-fill-color);\n",
              "  }\n",
              "\n",
              "  .colab-df-quickchart-complete:disabled,\n",
              "  .colab-df-quickchart-complete:disabled:hover {\n",
              "    background-color: var(--disabled-bg-color);\n",
              "    fill: var(--disabled-fill-color);\n",
              "    box-shadow: none;\n",
              "  }\n",
              "\n",
              "  .colab-df-spinner {\n",
              "    border: 2px solid var(--fill-color);\n",
              "    border-color: transparent;\n",
              "    border-bottom-color: var(--fill-color);\n",
              "    animation:\n",
              "      spin 1s steps(1) infinite;\n",
              "  }\n",
              "\n",
              "  @keyframes spin {\n",
              "    0% {\n",
              "      border-color: transparent;\n",
              "      border-bottom-color: var(--fill-color);\n",
              "      border-left-color: var(--fill-color);\n",
              "    }\n",
              "    20% {\n",
              "      border-color: transparent;\n",
              "      border-left-color: var(--fill-color);\n",
              "      border-top-color: var(--fill-color);\n",
              "    }\n",
              "    30% {\n",
              "      border-color: transparent;\n",
              "      border-left-color: var(--fill-color);\n",
              "      border-top-color: var(--fill-color);\n",
              "      border-right-color: var(--fill-color);\n",
              "    }\n",
              "    40% {\n",
              "      border-color: transparent;\n",
              "      border-right-color: var(--fill-color);\n",
              "      border-top-color: var(--fill-color);\n",
              "    }\n",
              "    60% {\n",
              "      border-color: transparent;\n",
              "      border-right-color: var(--fill-color);\n",
              "    }\n",
              "    80% {\n",
              "      border-color: transparent;\n",
              "      border-right-color: var(--fill-color);\n",
              "      border-bottom-color: var(--fill-color);\n",
              "    }\n",
              "    90% {\n",
              "      border-color: transparent;\n",
              "      border-bottom-color: var(--fill-color);\n",
              "    }\n",
              "  }\n",
              "</style>\n",
              "\n",
              "  <script>\n",
              "    async function quickchart(key) {\n",
              "      const quickchartButtonEl =\n",
              "        document.querySelector('#' + key + ' button');\n",
              "      quickchartButtonEl.disabled = true;  // To prevent multiple clicks.\n",
              "      quickchartButtonEl.classList.add('colab-df-spinner');\n",
              "      try {\n",
              "        const charts = await google.colab.kernel.invokeFunction(\n",
              "            'suggestCharts', [key], {});\n",
              "      } catch (error) {\n",
              "        console.error('Error during call to suggestCharts:', error);\n",
              "      }\n",
              "      quickchartButtonEl.classList.remove('colab-df-spinner');\n",
              "      quickchartButtonEl.classList.add('colab-df-quickchart-complete');\n",
              "    }\n",
              "    (() => {\n",
              "      let quickchartButtonEl =\n",
              "        document.querySelector('#df-4436130d-0892-4de2-854b-bc8c14b0f99a button');\n",
              "      quickchartButtonEl.style.display =\n",
              "        google.colab.kernel.accessAllowed ? 'block' : 'none';\n",
              "    })();\n",
              "  </script>\n",
              "</div>\n",
              "\n",
              "    </div>\n",
              "  </div>\n"
            ]
          },
          "metadata": {},
          "execution_count": 223
        }
      ]
    },
    {
      "cell_type": "code",
      "source": [
        "# Visualizando o tamanho da base de dados\n",
        "df.shape"
      ],
      "metadata": {
        "colab": {
          "base_uri": "https://localhost:8080/"
        },
        "id": "0RCoHuuzT3Rw",
        "outputId": "aa7138f5-cbc9-48f3-f720-6301c34f44c5"
      },
      "execution_count": 224,
      "outputs": [
        {
          "output_type": "execute_result",
          "data": {
            "text/plain": [
              "(23020, 5)"
            ]
          },
          "metadata": {},
          "execution_count": 224
        }
      ]
    },
    {
      "cell_type": "markdown",
      "source": [
        "# Visualização e descrição das colunas"
      ],
      "metadata": {
        "id": "HHG_mqXUUD84"
      }
    },
    {
      "cell_type": "code",
      "source": [
        "# Verificando nome das colunas\n",
        "df.columns"
      ],
      "metadata": {
        "colab": {
          "base_uri": "https://localhost:8080/"
        },
        "id": "G4eK9ibeYJR4",
        "outputId": "947ac01f-df20-4797-c3aa-29d4df947022"
      },
      "execution_count": 225,
      "outputs": [
        {
          "output_type": "execute_result",
          "data": {
            "text/plain": [
              "Index(['UF', 'Tipo Crime', 'Ano', 'Mês', 'Ocorrências'], dtype='object')"
            ]
          },
          "metadata": {},
          "execution_count": 225
        }
      ]
    },
    {
      "cell_type": "code",
      "source": [
        "# Verificando o tipo de variável que a coluna armazena\n",
        "df.dtypes"
      ],
      "metadata": {
        "colab": {
          "base_uri": "https://localhost:8080/"
        },
        "id": "E0EQfF8VYhQe",
        "outputId": "e68db76b-412e-47a8-dfe8-ba8efe5c6ead"
      },
      "execution_count": 226,
      "outputs": [
        {
          "output_type": "execute_result",
          "data": {
            "text/plain": [
              "UF             object\n",
              "Tipo Crime     object\n",
              "Ano             int64\n",
              "Mês            object\n",
              "Ocorrências     int64\n",
              "dtype: object"
            ]
          },
          "metadata": {},
          "execution_count": 226
        }
      ]
    },
    {
      "cell_type": "markdown",
      "source": [
        "### Descrição:\n",
        "\n",
        "**DF**\n",
        "\n",
        "* `Tipo de dado:` objeto\n",
        "* `Descrição`: Referente as 27 Unidades Federativas, sendo os 26 Estados acrescidos do Distrito Federal(DF), que é o local onde fica a capital do país.\n",
        "\n",
        "**Tipo Crime**\n",
        "\n",
        "* `Tipo de dado:` objeto\n",
        "* `Descrição:` Representa o tipo de crime registrado na ocorrência. Os valores possíveis são os códigos dos crimes definidos pelo Código Penal Brasileiro.\n",
        "\n",
        "**Ano**\n",
        "\n",
        "* `Tipo de dado:` inteiro\n",
        "* `Descrição:` Representa o ano da ocorrência criminal.\n",
        "\n",
        "**Mês**\n",
        "\n",
        "* `Tipo de dado:` objeto\n",
        "* `Descrição:` Representa o mês da ocorrência criminal. Os valores possíveis são os nomes dos 12 meses do ano.\n",
        "\n",
        "**Ocorrências**\n",
        "\n",
        "* `Tipo de dado:` inteiro\n",
        "* `Descrição:` Representa o número de ocorrências criminais registradas no mês e na unidade federativa especificados."
      ],
      "metadata": {
        "id": "CdXWlBufU_ty"
      }
    },
    {
      "cell_type": "markdown",
      "source": [
        "# Começando a análise dos dados"
      ],
      "metadata": {
        "id": "Txojta97cAA3"
      }
    },
    {
      "cell_type": "markdown",
      "source": [
        "## Verificando o intervalo de tempo da base de dados"
      ],
      "metadata": {
        "id": "6L-go1GYcJ6m"
      }
    },
    {
      "cell_type": "code",
      "source": [
        "# Verificando a quantidade de anos que serão analisados\n",
        "df['Ano'].unique()"
      ],
      "metadata": {
        "colab": {
          "base_uri": "https://localhost:8080/"
        },
        "id": "dZbB5Vc5awoc",
        "outputId": "28aa955f-0aab-45e8-cd8d-a175e37d613d"
      },
      "execution_count": 227,
      "outputs": [
        {
          "output_type": "execute_result",
          "data": {
            "text/plain": [
              "array([2022, 2021, 2020, 2019, 2018, 2017, 2016, 2015])"
            ]
          },
          "metadata": {},
          "execution_count": 227
        }
      ]
    },
    {
      "cell_type": "markdown",
      "source": [
        "## Conferindo as unidades federativas"
      ],
      "metadata": {
        "id": "HoxIFERcdEu_"
      }
    },
    {
      "cell_type": "code",
      "source": [
        "df['UF'].unique"
      ],
      "metadata": {
        "colab": {
          "base_uri": "https://localhost:8080/"
        },
        "id": "MZSJYdUIdFUO",
        "outputId": "00b8efe6-8d49-49b6-dcfa-c01f1b2d4031"
      },
      "execution_count": 228,
      "outputs": [
        {
          "output_type": "execute_result",
          "data": {
            "text/plain": [
              "<bound method Series.unique of 0             Acre\n",
              "1             Acre\n",
              "2             Acre\n",
              "3             Acre\n",
              "4             Acre\n",
              "           ...    \n",
              "23015    Tocantins\n",
              "23016    Tocantins\n",
              "23017    Tocantins\n",
              "23018    Tocantins\n",
              "23019    Tocantins\n",
              "Name: UF, Length: 23020, dtype: object>"
            ]
          },
          "metadata": {},
          "execution_count": 228
        }
      ]
    },
    {
      "cell_type": "markdown",
      "source": [
        "## Verificando se existe valores ausentes"
      ],
      "metadata": {
        "id": "pQuMC7wQdXjp"
      }
    },
    {
      "cell_type": "code",
      "source": [
        "df.isnull().sum()"
      ],
      "metadata": {
        "colab": {
          "base_uri": "https://localhost:8080/"
        },
        "id": "vbTvjykXdcXA",
        "outputId": "d870f329-8c88-478f-e4f3-731b277aeeb0"
      },
      "execution_count": 229,
      "outputs": [
        {
          "output_type": "execute_result",
          "data": {
            "text/plain": [
              "UF             0\n",
              "Tipo Crime     0\n",
              "Ano            0\n",
              "Mês            0\n",
              "Ocorrências    0\n",
              "dtype: int64"
            ]
          },
          "metadata": {},
          "execution_count": 229
        }
      ]
    },
    {
      "cell_type": "markdown",
      "source": [
        "## Verificando os tipos de crimes"
      ],
      "metadata": {
        "id": "yyNZAgCqjfGS"
      }
    },
    {
      "cell_type": "code",
      "source": [
        "df['Tipo Crime'].unique()"
      ],
      "metadata": {
        "colab": {
          "base_uri": "https://localhost:8080/"
        },
        "id": "2TY3ziK3jjdh",
        "outputId": "83aecbbe-5a0e-411b-efed-775d49ed64d2"
      },
      "execution_count": 230,
      "outputs": [
        {
          "output_type": "execute_result",
          "data": {
            "text/plain": [
              "array(['Estupro', 'Furto de veículo', 'Homicídio doloso',\n",
              "       'Lesão corporal seguida de morte',\n",
              "       'Roubo a instituição financeira', 'Roubo de carga',\n",
              "       'Roubo de veículo', 'Roubo seguido de morte (latrocínio)',\n",
              "       'Tentativa de homicídio'], dtype=object)"
            ]
          },
          "metadata": {},
          "execution_count": 230
        }
      ]
    },
    {
      "cell_type": "markdown",
      "source": [
        "# Começando a visualização dos dados"
      ],
      "metadata": {
        "id": "R9gj_1_2fNpH"
      }
    },
    {
      "cell_type": "markdown",
      "source": [
        "## Classificação de crimes com mais ocorrências nos últimos anos"
      ],
      "metadata": {
        "id": "u-np5T53NSsb"
      }
    },
    {
      "cell_type": "code",
      "source": [
        "plt.style.use('seaborn-v0_8-whitegrid')\n",
        "plt.figure(figsize=(10, 6))\n",
        "df.groupby(['Tipo Crime'])['Ocorrências'].sum().plot.barh(title='Crimes com maiores ocorrências', color='orange');"
      ],
      "metadata": {
        "colab": {
          "base_uri": "https://localhost:8080/",
          "height": 470
        },
        "id": "hC0gI5Q2NXqm",
        "outputId": "e2c055dc-e959-448b-b8bd-79a5ee0c0e3f"
      },
      "execution_count": 231,
      "outputs": [
        {
          "output_type": "display_data",
          "data": {
            "text/plain": [
              "<Figure size 800x480 with 1 Axes>"
            ],
            "image/png": "[encoded data removed]"
          },
          "metadata": {}
        }
      ]
    },
    {
      "cell_type": "code",
      "source": [
        "df.groupby(['Tipo Crime'])['Ocorrências'].sum().sort_values(ascending=False)"
      ],
      "metadata": {
        "colab": {
          "base_uri": "https://localhost:8080/"
        },
        "id": "bMG9QJV2O3ov",
        "outputId": "1195cf10-2915-4d66-9c85-63d1c98b20cf"
      },
      "execution_count": 232,
      "outputs": [
        {
          "output_type": "execute_result",
          "data": {
            "text/plain": [
              "Tipo Crime\n",
              "Furto de veículo                       1851837\n",
              "Roubo de veículo                       1633495\n",
              "Estupro                                 406831\n",
              "Homicídio doloso                        354868\n",
              "Tentativa de homicídio                  289959\n",
              "Roubo de carga                          148342\n",
              "Roubo seguido de morte (latrocínio)      14263\n",
              "Lesão corporal seguida de morte           6100\n",
              "Roubo a instituição financeira            5298\n",
              "Name: Ocorrências, dtype: int64"
            ]
          },
          "metadata": {},
          "execution_count": 232
        }
      ]
    },
    {
      "cell_type": "markdown",
      "source": [
        "* `Furto de veículo`: 1.851.837\n",
        "* `Roubo de veículo`: 1.633.495\n",
        "* `Estupro`:  406.831\n",
        "* `Homicídio doloso`:  354.868\n",
        "* `Tentativa de homicídio`:  289.959\n",
        "* `Roubo de carga`:  148.342\n",
        "* `Roubo seguido de morte (latrocínio)`:  14.263\n",
        "* `Lesão corporal seguida de morte`:  6.100\n",
        "* `Roubo a instituição financeira`:  5.298"
      ],
      "metadata": {
        "id": "0Jdsx8n0Q3IS"
      }
    },
    {
      "cell_type": "markdown",
      "source": [
        "## Qual foi o ano com o maior e menor números de ocorrências?"
      ],
      "metadata": {
        "id": "mf5IzVI4fZ4j"
      }
    },
    {
      "cell_type": "code",
      "source": [
        "plt.style.use('classic')\n",
        "df.groupby(df['Ano'])['Ocorrências'].sum().plot(title='Ocorrências criminais no Brasil nos últimos anos', color='orange')\n",
        "plt.ylabel('Ocorrências');"
      ],
      "metadata": {
        "colab": {
          "base_uri": "https://localhost:8080/",
          "height": 470
        },
        "id": "YaO7aSnO4qGZ",
        "outputId": "4783e5cd-297e-4d50-d330-fafbfa15620d"
      },
      "execution_count": 233,
      "outputs": [
        {
          "output_type": "display_data",
          "data": {
            "text/plain": [
              "<Figure size 640x480 with 1 Axes>"
            ],
            "image/png": "[encoded data removed]"
          },
          "metadata": {}
        }
      ]
    },
    {
      "cell_type": "markdown",
      "source": [
        "A análise das ocorrências nos últimos anos mostra que o ano com mais registros foi 2016, com mais de 700 mil ocorrências. O ano com menos registros foi 2020, com cerca de 450 mil ocorrências.\n",
        "\n",
        "A seguir, será apresentado um gráfico que mostra a distribuição das\n",
        "ocorrências por mês no de 2016."
      ],
      "metadata": {
        "id": "GBnDYWu51g-I"
      }
    },
    {
      "cell_type": "markdown",
      "source": [
        "## Distribuição mensal de ocorrências criminais no Brasil em 2016, ano com maior índice de criminalidade."
      ],
      "metadata": {
        "id": "nj7yZuy26R6D"
      }
    },
    {
      "cell_type": "code",
      "source": [
        "# Criando uma variável que irá receber dados apenas do ano de 2016\n",
        "df_2016 = df[df['Ano'] == 2020]"
      ],
      "metadata": {
        "id": "Oj1cmt-_6lbU"
      },
      "execution_count": 234,
      "outputs": []
    },
    {
      "cell_type": "code",
      "source": [
        "# Confirmando para ver se existe apenas registros do ano de 2016\n",
        "df_2016['Ano'].unique()"
      ],
      "metadata": {
        "colab": {
          "base_uri": "https://localhost:8080/"
        },
        "id": "ihCWvhxk654h",
        "outputId": "62a74cdd-f156-496a-f798-60904df9dfed"
      },
      "execution_count": 235,
      "outputs": [
        {
          "output_type": "execute_result",
          "data": {
            "text/plain": [
              "array([2020])"
            ]
          },
          "metadata": {},
          "execution_count": 235
        }
      ]
    },
    {
      "cell_type": "code",
      "source": [
        "plt.figure(figsize=(10, 6))\n",
        "df_2016.groupby(['Mês'])['Ocorrências'].sum().plot.bar(title='Número de ocorrências por mês no ano de 2016', color='orange');"
      ],
      "metadata": {
        "colab": {
          "base_uri": "https://localhost:8080/",
          "height": 526
        },
        "id": "hj_nGjeT7JiJ",
        "outputId": "97b83798-db12-4b7b-f46e-26dbe8b6bb29"
      },
      "execution_count": 236,
      "outputs": [
        {
          "output_type": "display_data",
          "data": {
            "text/plain": [
              "<Figure size 800x480 with 1 Axes>"
            ],
            "image/png": "[encoded data removed]"
          },
          "metadata": {}
        }
      ]
    },
    {
      "cell_type": "markdown",
      "source": [
        "###Ocorrências criminais por mês no ano de 2016\n",
        "* `Janeiro`: 47.347\n",
        "* `Fevereiro`: 45.359\n",
        "* `Março`: 42.812\n",
        "* `Abril`: 34.636\n",
        "* `Maio`: 32.593\n",
        "* `Junho`: 32.427\n",
        "* `Julho`: 34.292\n",
        "* `Agosto`: 33.479\n",
        "* `Setembro`: 33.843\n",
        "* `Outubro`: 36.711\n",
        "* `Novembro`: 37.940\n",
        "* `Dezembro`: 38.815"
      ],
      "metadata": {
        "id": "UdcmYq7P_aRe"
      }
    },
    {
      "cell_type": "markdown",
      "source": [
        "## Tendência de homicídios dolosos por UF ao longo dos últimos 5 anos."
      ],
      "metadata": {
        "id": "60FBTMjAkjZz"
      }
    },
    {
      "cell_type": "code",
      "source": [
        "# Criando uma base de dados que recebe apenas homicidios dolosos\n",
        "df_homicidio_doloso = df[df['Tipo Crime'] == 'Homicídio doloso']"
      ],
      "metadata": {
        "id": "sPrfo9AQ8qWG"
      },
      "execution_count": 237,
      "outputs": []
    },
    {
      "cell_type": "code",
      "source": [
        "plt.figure(figsize=(10, 10))\n",
        "plt.style.use('seaborn-v0_8')\n",
        "df_homicidio_doloso.groupby(['Ano'])['Ocorrências'].sum().plot.pie(title='Ocorrências de homicídios dolosos nos últimos anos')\n",
        "plt.ylabel('');"
      ],
      "metadata": {
        "colab": {
          "base_uri": "https://localhost:8080/",
          "height": 667
        },
        "id": "0NLo3aIFDsKt",
        "outputId": "76f3e8f4-6de8-4281-95b3-80f2d1c0045b"
      },
      "execution_count": 238,
      "outputs": [
        {
          "output_type": "display_data",
          "data": {
            "text/plain": [
              "<Figure size 800x800 with 1 Axes>"
            ],
            "image/png": "[encoded data removed]"
          },
          "metadata": {}
        }
      ]
    },
    {
      "cell_type": "code",
      "source": [
        "# Homicidios dolosos em números\n",
        "df_homicidio_doloso.groupby(['Ano'])['Ocorrências'].sum().sort_values()"
      ],
      "metadata": {
        "colab": {
          "base_uri": "https://localhost:8080/"
        },
        "id": "7cHwzd9vJHf4",
        "outputId": "d3950806-5d9a-48ce-b41a-a5dd6ac29f6b"
      },
      "execution_count": 239,
      "outputs": [
        {
          "output_type": "execute_result",
          "data": {
            "text/plain": [
              "Ano\n",
              "2022    37439\n",
              "2019    37847\n",
              "2021    38137\n",
              "2020    40470\n",
              "2018    46321\n",
              "2015    49628\n",
              "2016    51645\n",
              "2017    53381\n",
              "Name: Ocorrências, dtype: int64"
            ]
          },
          "metadata": {},
          "execution_count": 239
        }
      ]
    },
    {
      "cell_type": "markdown",
      "source": [
        "### Homicídios dolosos nos últimos anos em números\n",
        "\n",
        "* `2015`: 49.628\n",
        "* `2016`: 51.645\n",
        "* `2017`: 53.381\n",
        "* `2018`: 46.321\n",
        "* `2019`: 37.847\n",
        "* `2020`: 40.470\n",
        "* `2021`: 38.137\n",
        "* `2022`: 37.439\n",
        "\n",
        "De acordo com o gráfico e os números apresentados, o ano com o maior número de homicídios dolosos no Brasil foi 2017, com 53.381 ocorrências. Em 2022, o número de homicídios caiu para 37.439, o menor valor registrado desde o início da série histórica."
      ],
      "metadata": {
        "id": "DHcqCE12KLPU"
      }
    },
    {
      "cell_type": "markdown",
      "source": [
        "## Roubo de veículos: comparação por UF em 2022"
      ],
      "metadata": {
        "id": "IctYC0-QSbjM"
      }
    },
    {
      "cell_type": "code",
      "source": [
        "# Criando uma nova base de dados que recebe apenas crimes de roubo de veículos no de 2022\n",
        "df_roubo_2022 = df.loc[(df['Tipo Crime'] == 'Roubo de veículo') & (df['Ano'] == 2022)]"
      ],
      "metadata": {
        "id": "4cBhN8NfSqOc"
      },
      "execution_count": 240,
      "outputs": []
    },
    {
      "cell_type": "code",
      "source": [
        "plt.style.use('fivethirtyeight')\n",
        "plt.figure(figsize=(15, 6))\n",
        "df_roubo_2022.groupby(['Mês'])['Ocorrências'].sum().plot.barh(title='Índice de roubo de carros mensais no ano de 2022 (meses não-ordenados)', color='orange');"
      ],
      "metadata": {
        "colab": {
          "base_uri": "https://localhost:8080/",
          "height": 474
        },
        "id": "R7zy5l4CT6Km",
        "outputId": "353c73a5-2e87-48f2-82be-3e702d703c51"
      },
      "execution_count": 241,
      "outputs": [
        {
          "output_type": "display_data",
          "data": {
            "text/plain": [
              "<Figure size 1200x480 with 1 Axes>"
            ],
            "image/png": "[encoded data removed]"
          },
          "metadata": {}
        }
      ]
    },
    {
      "cell_type": "code",
      "source": [
        "df_roubo_2022.groupby(['Mês'])['Ocorrências'].sum()"
      ],
      "metadata": {
        "colab": {
          "base_uri": "https://localhost:8080/"
        },
        "id": "W75ilRoHWFcG",
        "outputId": "50567080-66ae-4712-9bb0-0f7ccaa197bc"
      },
      "execution_count": 242,
      "outputs": [
        {
          "output_type": "execute_result",
          "data": {
            "text/plain": [
              "Mês\n",
              "abril        11185\n",
              "agosto       11268\n",
              "dezembro     13096\n",
              "fevereiro    10476\n",
              "janeiro      10953\n",
              "julho        11502\n",
              "junho        11102\n",
              "maio         11692\n",
              "março        12709\n",
              "novembro     13135\n",
              "outubro      12590\n",
              "setembro     11519\n",
              "Name: Ocorrências, dtype: int64"
            ]
          },
          "metadata": {},
          "execution_count": 242
        }
      ]
    },
    {
      "cell_type": "markdown",
      "source": [
        "###Número de ocorrências de roubo de carros no ano de 2022\n",
        "* `Janeiro`: 10.953\n",
        "* `Fevereiro`: 10.476\n",
        "* `Março`: 12.709\n",
        "* `Abril`: 11.185\n",
        "* `Maio`: 11.692\n",
        "* `Junho`: 11.102\n",
        "* `Julho`: 11.502\n",
        "* `Agosto`: 11.268\n",
        "* `Setembro`: 11.519\n",
        "* `Outubro`: 12.590\n",
        "* `Novembro`: 13.135\n",
        "* `Dezembro`: 13.096"
      ],
      "metadata": {
        "id": "alcO4AGAWJDI"
      }
    },
    {
      "cell_type": "markdown",
      "source": [
        "## Número de ocorrências de estupro nos últimos anos"
      ],
      "metadata": {
        "id": "7KU6eES7XCD5"
      }
    },
    {
      "cell_type": "code",
      "source": [
        "# Criando uma variável que recebe apenas crime de estrupo nos últimos anos\n",
        "df_estr = df[df['Tipo Crime'] == 'Estupro']\n",
        "df_estr.head()"
      ],
      "metadata": {
        "colab": {
          "base_uri": "https://localhost:8080/",
          "height": 206
        },
        "id": "5gkcN-KsXEK1",
        "outputId": "2fc60d5e-38f9-41b9-fe1e-5f3d7d7dfc33"
      },
      "execution_count": 248,
      "outputs": [
        {
          "output_type": "execute_result",
          "data": {
            "text/plain": [
              "      UF Tipo Crime   Ano        Mês  Ocorrências\n",
              "0   Acre    Estupro  2022    janeiro           31\n",
              "9   Acre    Estupro  2022  fevereiro           34\n",
              "18  Acre    Estupro  2022      março           57\n",
              "27  Acre    Estupro  2022      abril           28\n",
              "32  Acre    Estupro  2022       maio           45"
            ],
            "text/html": [
              "\n",
              "  <div id=\"df-cf542633-f8a6-4c3b-9894-087d5f3478b6\" class=\"colab-df-container\">\n",
              "    <div>\n",
              "<style scoped>\n",
              "    .dataframe tbody tr th:only-of-type {\n",
              "        vertical-align: middle;\n",
              "    }\n",
              "\n",
              "    .dataframe tbody tr th {\n",
              "        vertical-align: top;\n",
              "    }\n",
              "\n",
              "    .dataframe thead th {\n",
              "        text-align: right;\n",
              "    }\n",
              "</style>\n",
              "<table border=\"1\" class=\"dataframe\">\n",
              "  <thead>\n",
              "    <tr style=\"text-align: right;\">\n",
              "      <th></th>\n",
              "      <th>UF</th>\n",
              "      <th>Tipo Crime</th>\n",
              "      <th>Ano</th>\n",
              "      <th>Mês</th>\n",
              "      <th>Ocorrências</th>\n",
              "    </tr>\n",
              "  </thead>\n",
              "  <tbody>\n",
              "    <tr>\n",
              "      <th>0</th>\n",
              "      <td>Acre</td>\n",
              "      <td>Estupro</td>\n",
              "      <td>2022</td>\n",
              "      <td>janeiro</td>\n",
              "      <td>31</td>\n",
              "    </tr>\n",
              "    <tr>\n",
              "      <th>9</th>\n",
              "      <td>Acre</td>\n",
              "      <td>Estupro</td>\n",
              "      <td>2022</td>\n",
              "      <td>fevereiro</td>\n",
              "      <td>34</td>\n",
              "    </tr>\n",
              "    <tr>\n",
              "      <th>18</th>\n",
              "      <td>Acre</td>\n",
              "      <td>Estupro</td>\n",
              "      <td>2022</td>\n",
              "      <td>março</td>\n",
              "      <td>57</td>\n",
              "    </tr>\n",
              "    <tr>\n",
              "      <th>27</th>\n",
              "      <td>Acre</td>\n",
              "      <td>Estupro</td>\n",
              "      <td>2022</td>\n",
              "      <td>abril</td>\n",
              "      <td>28</td>\n",
              "    </tr>\n",
              "    <tr>\n",
              "      <th>32</th>\n",
              "      <td>Acre</td>\n",
              "      <td>Estupro</td>\n",
              "      <td>2022</td>\n",
              "      <td>maio</td>\n",
              "      <td>45</td>\n",
              "    </tr>\n",
              "  </tbody>\n",
              "</table>\n",
              "</div>\n",
              "    <div class=\"colab-df-buttons\">\n",
              "\n",
              "  <div class=\"colab-df-container\">\n",
              "    <button class=\"colab-df-convert\" onclick=\"convertToInteractive('df-cf542633-f8a6-4c3b-9894-087d5f3478b6')\"\n",
              "            title=\"Convert this dataframe to an interactive table.\"\n",
              "            style=\"display:none;\">\n",
              "\n",
              "  <svg xmlns=\"http://www.w3.org/2000/svg\" height=\"24px\" viewBox=\"0 -960 960 960\">\n",
              "    <path d=\"M120-120v-720h720v720H120Zm60-500h600v-160H180v160Zm220 220h160v-160H400v160Zm0 220h160v-160H400v160ZM180-400h160v-160H180v160Zm440 0h160v-160H620v160ZM180-180h160v-160H180v160Zm440 0h160v-160H620v160Z\"/>\n",
              "  </svg>\n",
              "    </button>\n",
              "\n",
              "  <style>\n",
              "    .colab-df-container {\n",
              "      display:flex;\n",
              "      gap: 12px;\n",
              "    }\n",
              "\n",
              "    .colab-df-convert {\n",
              "      background-color: #E8F0FE;\n",
              "      border: none;\n",
              "      border-radius: 50%;\n",
              "      cursor: pointer;\n",
              "      display: none;\n",
              "      fill: #1967D2;\n",
              "      height: 32px;\n",
              "      padding: 0 0 0 0;\n",
              "      width: 32px;\n",
              "    }\n",
              "\n",
              "    .colab-df-convert:hover {\n",
              "      background-color: #E2EBFA;\n",
              "      box-shadow: 0px 1px 2px rgba(60, 64, 67, 0.3), 0px 1px 3px 1px rgba(60, 64, 67, 0.15);\n",
              "      fill: #174EA6;\n",
              "    }\n",
              "\n",
              "    .colab-df-buttons div {\n",
              "      margin-bottom: 4px;\n",
              "    }\n",
              "\n",
              "    [theme=dark] .colab-df-convert {\n",
              "      background-color: #3B4455;\n",
              "      fill: #D2E3FC;\n",
              "    }\n",
              "\n",
              "    [theme=dark] .colab-df-convert:hover {\n",
              "      background-color: #434B5C;\n",
              "      box-shadow: 0px 1px 3px 1px rgba(0, 0, 0, 0.15);\n",
              "      filter: drop-shadow(0px 1px 2px rgba(0, 0, 0, 0.3));\n",
              "      fill: #FFFFFF;\n",
              "    }\n",
              "  </style>\n",
              "\n",
              "    <script>\n",
              "      const buttonEl =\n",
              "        document.querySelector('#df-cf542633-f8a6-4c3b-9894-087d5f3478b6 button.colab-df-convert');\n",
              "      buttonEl.style.display =\n",
              "        google.colab.kernel.accessAllowed ? 'block' : 'none';\n",
              "\n",
              "      async function convertToInteractive(key) {\n",
              "        const element = document.querySelector('#df-cf542633-f8a6-4c3b-9894-087d5f3478b6');\n",
              "        const dataTable =\n",
              "          await google.colab.kernel.invokeFunction('convertToInteractive',\n",
              "                                                    [key], {});\n",
              "        if (!dataTable) return;\n",
              "\n",
              "        const docLinkHtml = 'Like what you see? Visit the ' +\n",
              "          '<a target=\"_blank\" href=https://colab.research.google.com/notebooks/data_table.ipynb>data table notebook</a>'\n",
              "          + ' to learn more about interactive tables.';\n",
              "        element.innerHTML = '';\n",
              "        dataTable['output_type'] = 'display_data';\n",
              "        await google.colab.output.renderOutput(dataTable, element);\n",
              "        const docLink = document.createElement('div');\n",
              "        docLink.innerHTML = docLinkHtml;\n",
              "        element.appendChild(docLink);\n",
              "      }\n",
              "    </script>\n",
              "  </div>\n",
              "\n",
              "\n",
              "<div id=\"df-59813be3-ba8c-47a4-ad13-dc983a71441b\">\n",
              "  <button class=\"colab-df-quickchart\" onclick=\"quickchart('df-59813be3-ba8c-47a4-ad13-dc983a71441b')\"\n",
              "            title=\"Suggest charts\"\n",
              "            style=\"display:none;\">\n",
              "\n",
              "<svg xmlns=\"http://www.w3.org/2000/svg\" height=\"24px\"viewBox=\"0 0 24 24\"\n",
              "     width=\"24px\">\n",
              "    <g>\n",
              "        <path d=\"M19 3H5c-1.1 0-2 .9-2 2v14c0 1.1.9 2 2 2h14c1.1 0 2-.9 2-2V5c0-1.1-.9-2-2-2zM9 17H7v-7h2v7zm4 0h-2V7h2v10zm4 0h-2v-4h2v4z\"/>\n",
              "    </g>\n",
              "</svg>\n",
              "  </button>\n",
              "\n",
              "<style>\n",
              "  .colab-df-quickchart {\n",
              "      --bg-color: #E8F0FE;\n",
              "      --fill-color: #1967D2;\n",
              "      --hover-bg-color: #E2EBFA;\n",
              "      --hover-fill-color: #174EA6;\n",
              "      --disabled-fill-color: #AAA;\n",
              "      --disabled-bg-color: #DDD;\n",
              "  }\n",
              "\n",
              "  [theme=dark] .colab-df-quickchart {\n",
              "      --bg-color: #3B4455;\n",
              "      --fill-color: #D2E3FC;\n",
              "      --hover-bg-color: #434B5C;\n",
              "      --hover-fill-color: #FFFFFF;\n",
              "      --disabled-bg-color: #3B4455;\n",
              "      --disabled-fill-color: #666;\n",
              "  }\n",
              "\n",
              "  .colab-df-quickchart {\n",
              "    background-color: var(--bg-color);\n",
              "    border: none;\n",
              "    border-radius: 50%;\n",
              "    cursor: pointer;\n",
              "    display: none;\n",
              "    fill: var(--fill-color);\n",
              "    height: 32px;\n",
              "    padding: 0;\n",
              "    width: 32px;\n",
              "  }\n",
              "\n",
              "  .colab-df-quickchart:hover {\n",
              "    background-color: var(--hover-bg-color);\n",
              "    box-shadow: 0 1px 2px rgba(60, 64, 67, 0.3), 0 1px 3px 1px rgba(60, 64, 67, 0.15);\n",
              "    fill: var(--button-hover-fill-color);\n",
              "  }\n",
              "\n",
              "  .colab-df-quickchart-complete:disabled,\n",
              "  .colab-df-quickchart-complete:disabled:hover {\n",
              "    background-color: var(--disabled-bg-color);\n",
              "    fill: var(--disabled-fill-color);\n",
              "    box-shadow: none;\n",
              "  }\n",
              "\n",
              "  .colab-df-spinner {\n",
              "    border: 2px solid var(--fill-color);\n",
              "    border-color: transparent;\n",
              "    border-bottom-color: var(--fill-color);\n",
              "    animation:\n",
              "      spin 1s steps(1) infinite;\n",
              "  }\n",
              "\n",
              "  @keyframes spin {\n",
              "    0% {\n",
              "      border-color: transparent;\n",
              "      border-bottom-color: var(--fill-color);\n",
              "      border-left-color: var(--fill-color);\n",
              "    }\n",
              "    20% {\n",
              "      border-color: transparent;\n",
              "      border-left-color: var(--fill-color);\n",
              "      border-top-color: var(--fill-color);\n",
              "    }\n",
              "    30% {\n",
              "      border-color: transparent;\n",
              "      border-left-color: var(--fill-color);\n",
              "      border-top-color: var(--fill-color);\n",
              "      border-right-color: var(--fill-color);\n",
              "    }\n",
              "    40% {\n",
              "      border-color: transparent;\n",
              "      border-right-color: var(--fill-color);\n",
              "      border-top-color: var(--fill-color);\n",
              "    }\n",
              "    60% {\n",
              "      border-color: transparent;\n",
              "      border-right-color: var(--fill-color);\n",
              "    }\n",
              "    80% {\n",
              "      border-color: transparent;\n",
              "      border-right-color: var(--fill-color);\n",
              "      border-bottom-color: var(--fill-color);\n",
              "    }\n",
              "    90% {\n",
              "      border-color: transparent;\n",
              "      border-bottom-color: var(--fill-color);\n",
              "    }\n",
              "  }\n",
              "</style>\n",
              "\n",
              "  <script>\n",
              "    async function quickchart(key) {\n",
              "      const quickchartButtonEl =\n",
              "        document.querySelector('#' + key + ' button');\n",
              "      quickchartButtonEl.disabled = true;  // To prevent multiple clicks.\n",
              "      quickchartButtonEl.classList.add('colab-df-spinner');\n",
              "      try {\n",
              "        const charts = await google.colab.kernel.invokeFunction(\n",
              "            'suggestCharts', [key], {});\n",
              "      } catch (error) {\n",
              "        console.error('Error during call to suggestCharts:', error);\n",
              "      }\n",
              "      quickchartButtonEl.classList.remove('colab-df-spinner');\n",
              "      quickchartButtonEl.classList.add('colab-df-quickchart-complete');\n",
              "    }\n",
              "    (() => {\n",
              "      let quickchartButtonEl =\n",
              "        document.querySelector('#df-59813be3-ba8c-47a4-ad13-dc983a71441b button');\n",
              "      quickchartButtonEl.style.display =\n",
              "        google.colab.kernel.accessAllowed ? 'block' : 'none';\n",
              "    })();\n",
              "  </script>\n",
              "</div>\n",
              "\n",
              "    </div>\n",
              "  </div>\n"
            ]
          },
          "metadata": {},
          "execution_count": 248
        }
      ]
    },
    {
      "cell_type": "code",
      "source": [
        "# Total de produtos vendidos por mês no ano de 2019\n",
        "plt.style.use('fivethirtyeight')\n",
        "plt.figure(figsize=(15, 6))\n",
        "df_estr.groupby(df_estr['Ano'])['Ocorrências'].sum().plot(marker='o', title='Ocorrência de estupro nos últimos anos no Brasil', color='orange')\n",
        "plt.xlabel('Ocorrências')\n",
        "plt.ylabel('Ano');"
      ],
      "metadata": {
        "colab": {
          "base_uri": "https://localhost:8080/",
          "height": 493
        },
        "id": "qd5DeUfEYTNN",
        "outputId": "5028d1c1-c6cf-478b-a458-d5abe1d06e24"
      },
      "execution_count": 252,
      "outputs": [
        {
          "output_type": "display_data",
          "data": {
            "text/plain": [
              "<Figure size 1200x480 with 1 Axes>"
            ],
            "image/png": "[encoded data removed]"
          },
          "metadata": {}
        }
      ]
    },
    {
      "cell_type": "code",
      "source": [
        "df_estr.groupby(df_estr['Ano'])['Ocorrências'].sum()"
      ],
      "metadata": {
        "colab": {
          "base_uri": "https://localhost:8080/"
        },
        "id": "WeziK7HoZns2",
        "outputId": "5df38767-385b-49c4-d1a7-4ba073288830"
      },
      "execution_count": 257,
      "outputs": [
        {
          "output_type": "execute_result",
          "data": {
            "text/plain": [
              "Ano\n",
              "2015    43591\n",
              "2016    46779\n",
              "2017    50513\n",
              "2018    53233\n",
              "2019    53936\n",
              "2020    48132\n",
              "2021    52560\n",
              "2022    58087\n",
              "Name: Ocorrências, dtype: int64"
            ]
          },
          "metadata": {},
          "execution_count": 257
        }
      ]
    },
    {
      "cell_type": "code",
      "source": [
        "# Soma total de ocorrências de estupro\n",
        "df_estr['Ocorrências'].sum()"
      ],
      "metadata": {
        "colab": {
          "base_uri": "https://localhost:8080/"
        },
        "id": "Q2PKKaQzZ7ea",
        "outputId": "c8388207-687f-4b6e-9a76-c01bc822b06c"
      },
      "execution_count": 256,
      "outputs": [
        {
          "output_type": "execute_result",
          "data": {
            "text/plain": [
              "406831"
            ]
          },
          "metadata": {},
          "execution_count": 256
        }
      ]
    },
    {
      "cell_type": "markdown",
      "source": [
        "### Ocorrência de estupro nos últimos anos\n",
        "\n",
        "* `2015`: 43591\n",
        "* `2016`: 46779\n",
        "* `2017`: 50513\n",
        "* `2018`: 53233\n",
        "* `2019`: 53936\n",
        "* `2020`: 48132\n",
        "* `2021`: 52560\n",
        "* `2022`: 58087\n",
        "\n",
        "\n",
        "Os casos de estupro aumentaram de forma alarmante ao longo de oito anos, indo de 43.591 em 2015 para 58.087 em 2022, totalizando 406.831 ocorrências. Isso destaca a urgência de medidas eficazes para enfrentar esse problema crescente."
      ],
      "metadata": {
        "id": "gEzRPNItashv"
      }
    },
    {
      "cell_type": "markdown",
      "source": [
        "# Conclusão"
      ],
      "metadata": {
        "id": "iUAbOFQWbyze"
      }
    },
    {
      "cell_type": "markdown",
      "source": [
        "Em resumo, a análise das ocorrências criminais por estado no Brasil revelou que crimes como furto e roubo de veículos, estupro e homicídio doloso são desafios significativos. A variação ao longo dos anos mostrou picos em 2016 e quedas em 2020. A análise por estado destacou disparidades nos índices de criminalidade.\n",
        "\n",
        "No ano de 2022, o roubo de veículos teve variações mensais, indicando necessidade de abordagens específicas em diferentes períodos. Os homicídios dolosos tiveram uma redução em 2022, o que é positivo, mas ainda exige atenção contínua.\n",
        "\n",
        "O aumento constante nos casos de estupro ao longo dos anos é alarmante, exigindo ações urgentes para enfrentar e prevenir esse tipo de crime. Em resumo, é crucial que autoridades e sociedade trabalhem juntas para desenvolver estratégias eficazes e criar um ambiente mais seguro para todos os cidadãos."
      ],
      "metadata": {
        "id": "BHtbcFijct7e"
      }
    }
  ]
}